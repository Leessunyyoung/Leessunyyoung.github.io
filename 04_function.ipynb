{
  "nbformat": 4,
  "nbformat_minor": 0,
  "metadata": {
    "colab": {
      "provenance": [],
      "authorship_tag": "ABX9TyOiQxTs4CVviSm7IAki42y1",
      "include_colab_link": true
    },
    "kernelspec": {
      "name": "python3",
      "display_name": "Python 3"
    },
    "language_info": {
      "name": "python"
    }
  },
  "cells": [
    {
      "cell_type": "markdown",
      "metadata": {
        "id": "view-in-github",
        "colab_type": "text"
      },
      "source": [
        "<a href=\"https://colab.research.google.com/github/Leessunyyoung/Leessunyyoung.github.io/blob/master/04_function.ipynb\" target=\"_parent\"><img src=\"https://colab.research.google.com/assets/colab-badge.svg\" alt=\"Open In Colab\"/></a>"
      ]
    },
    {
      "cell_type": "code",
      "execution_count": null,
      "metadata": {
        "id": "infKNplIkfFP"
      },
      "outputs": [],
      "source": [
        "dir(str)"
      ]
    },
    {
      "cell_type": "code",
      "source": [
        "#dir(str)\n",
        "#dir(list)\n",
        "#dir(tuple)\n",
        "#dir(set)\n",
        "#dir(dict)"
      ],
      "metadata": {
        "id": "t6c0yaP1l5pG"
      },
      "execution_count": null,
      "outputs": []
    },
    {
      "cell_type": "markdown",
      "source": [
        "### 키워드(Keyword)는 파이썬에서 이미 예약되어있는 문자열로서 다른 용도로 사용이 불가능한 문자열 "
      ],
      "metadata": {
        "id": "elNQlAWSnXaX"
      }
    },
    {
      "cell_type": "code",
      "source": [
        "import keyword\n",
        "keyword.kwlist"
      ],
      "metadata": {
        "id": "7A5kF7tGmNnd"
      },
      "execution_count": null,
      "outputs": []
    },
    {
      "cell_type": "code",
      "source": [
        "def proc(a,b):\n",
        "  return a,b"
      ],
      "metadata": {
        "id": "Di9z10urntT2"
      },
      "execution_count": 5,
      "outputs": []
    },
    {
      "cell_type": "code",
      "source": [
        "proc(2,4)"
      ],
      "metadata": {
        "colab": {
          "base_uri": "https://localhost:8080/"
        },
        "id": "gX0mCB-pnx8k",
        "outputId": "6a75004c-cfaf-42d1-b580-41afa27f9dd3"
      },
      "execution_count": 6,
      "outputs": [
        {
          "output_type": "execute_result",
          "data": {
            "text/plain": [
              "(2, 4)"
            ]
          },
          "metadata": {},
          "execution_count": 6
        }
      ]
    },
    {
      "cell_type": "code",
      "source": [
        "proc(b=4, a=2)"
      ],
      "metadata": {
        "colab": {
          "base_uri": "https://localhost:8080/"
        },
        "id": "O0e3h3mtnz_E",
        "outputId": "97450db0-6cbb-4ad0-a785-8b126d78561d"
      },
      "execution_count": 7,
      "outputs": [
        {
          "output_type": "execute_result",
          "data": {
            "text/plain": [
              "(2, 4)"
            ]
          },
          "metadata": {},
          "execution_count": 7
        }
      ]
    },
    {
      "cell_type": "markdown",
      "source": [
        "3.keyword & positional 혼합"
      ],
      "metadata": {
        "id": "McvwKTWBn7N1"
      }
    },
    {
      "cell_type": "code",
      "source": [
        "#python 버전확인\n",
        "import sys\n",
        "sys.version"
      ],
      "metadata": {
        "id": "DE568htFoG1f"
      },
      "execution_count": null,
      "outputs": []
    },
    {
      "cell_type": "markdown",
      "source": [
        "4.position only"
      ],
      "metadata": {
        "id": "q60McaR7oL2g"
      }
    },
    {
      "cell_type": "code",
      "source": [
        "def proc(a,b,c, /):\n",
        "  return a,b,c"
      ],
      "metadata": {
        "id": "dyq9cT3foRZU"
      },
      "execution_count": 10,
      "outputs": []
    },
    {
      "cell_type": "code",
      "source": [
        "proc(4,5,6)"
      ],
      "metadata": {
        "colab": {
          "base_uri": "https://localhost:8080/"
        },
        "id": "QmhudE8goYTU",
        "outputId": "3a79ec0c-5fc9-4398-b080-ea05d35812d5"
      },
      "execution_count": 11,
      "outputs": [
        {
          "output_type": "execute_result",
          "data": {
            "text/plain": [
              "(4, 5, 6)"
            ]
          },
          "metadata": {},
          "execution_count": 11
        }
      ]
    },
    {
      "cell_type": "code",
      "source": [
        "proc(4,c=6,b=5) #error ->proc() got some positional-only arguments passed as keyword arguments: 'b, c'"
      ],
      "metadata": {
        "id": "xH0U35fBobz7"
      },
      "execution_count": null,
      "outputs": []
    },
    {
      "cell_type": "markdown",
      "source": [
        "### 5. keyword only\n",
        "keyword only 방식은 인자를 keyword방식으로만 입력하도록 강제하는 방법이다.\n",
        "'*' 이후로는 키워드 방식만 가능하다."
      ],
      "metadata": {
        "id": "eHphJpKjorQc"
      }
    },
    {
      "cell_type": "code",
      "source": [
        "def proc(*,a,b,c):\n",
        "  return a,b,c"
      ],
      "metadata": {
        "id": "axDoAo-Oobv7"
      },
      "execution_count": 13,
      "outputs": []
    },
    {
      "cell_type": "code",
      "source": [
        "proc(a=3,c=5,b=4)"
      ],
      "metadata": {
        "colab": {
          "base_uri": "https://localhost:8080/"
        },
        "id": "xcxLoHLOpM3k",
        "outputId": "db35ef91-5cf4-4253-efea-9a70c23e9428"
      },
      "execution_count": 14,
      "outputs": [
        {
          "output_type": "execute_result",
          "data": {
            "text/plain": [
              "(3, 4, 5)"
            ]
          },
          "metadata": {},
          "execution_count": 14
        }
      ]
    },
    {
      "cell_type": "code",
      "source": [
        "# position 방식을 사용하면 TypeError 발생\n",
        "proc(3,4,5) #TypeError: proc() takes 0 positional arguments but 3 were given"
      ],
      "metadata": {
        "id": "DPxRTy4ypS0M"
      },
      "execution_count": null,
      "outputs": []
    },
    {
      "cell_type": "markdown",
      "source": [
        "6. 가변 positional\n",
        "가변 positional은 파라미터 이름에 '*'를 붙인다.\n",
        "positional 방식으로 입력되는 인자의 갯수에 상관없이 모두 받아온다."
      ],
      "metadata": {
        "id": "WygGByGIp1wl"
      }
    },
    {
      "cell_type": "code",
      "source": [
        "def proc(*a):\n",
        "  return a"
      ],
      "metadata": {
        "id": "wtpzv6ILqFc9"
      },
      "execution_count": 16,
      "outputs": []
    },
    {
      "cell_type": "code",
      "source": [
        "proc(1)"
      ],
      "metadata": {
        "colab": {
          "base_uri": "https://localhost:8080/"
        },
        "id": "EEEqViIkqKrm",
        "outputId": "0ccff0ca-07e2-4b35-8698-1065e23d1b4e"
      },
      "execution_count": 17,
      "outputs": [
        {
          "output_type": "execute_result",
          "data": {
            "text/plain": [
              "(1,)"
            ]
          },
          "metadata": {},
          "execution_count": 17
        }
      ]
    },
    {
      "cell_type": "code",
      "source": [
        "proc(1,2)"
      ],
      "metadata": {
        "colab": {
          "base_uri": "https://localhost:8080/"
        },
        "id": "0i63PA78qMGv",
        "outputId": "b069b90f-4cd5-43ae-866a-7ac4676c5a9a"
      },
      "execution_count": 18,
      "outputs": [
        {
          "output_type": "execute_result",
          "data": {
            "text/plain": [
              "(1, 2)"
            ]
          },
          "metadata": {},
          "execution_count": 18
        }
      ]
    },
    {
      "cell_type": "code",
      "source": [
        "def proc2(*a): #<'tuple'>\n",
        "  print(type(a))\n",
        "  hap = 0\n",
        "  for i in a:\n",
        "    hap += i\n",
        "  return  hap"
      ],
      "metadata": {
        "id": "SHZuc0zaqPD6"
      },
      "execution_count": 42,
      "outputs": []
    },
    {
      "cell_type": "code",
      "source": [
        "proc2(1,3,5)"
      ],
      "metadata": {
        "colab": {
          "base_uri": "https://localhost:8080/"
        },
        "id": "4vX5xpUUq_Er",
        "outputId": "ff6ae5c6-ef01-4c90-dd15-4766da0f34c9"
      },
      "execution_count": 43,
      "outputs": [
        {
          "output_type": "stream",
          "name": "stdout",
          "text": [
            "<class 'tuple'>\n"
          ]
        },
        {
          "output_type": "execute_result",
          "data": {
            "text/plain": [
              "9"
            ]
          },
          "metadata": {},
          "execution_count": 43
        }
      ]
    },
    {
      "cell_type": "code",
      "source": [
        "proc2()"
      ],
      "metadata": {
        "colab": {
          "base_uri": "https://localhost:8080/"
        },
        "id": "ftzkZqH3rCmb",
        "outputId": "f628a0b0-a0b1-43ff-933f-e103d952236e"
      },
      "execution_count": 44,
      "outputs": [
        {
          "output_type": "stream",
          "name": "stdout",
          "text": [
            "<class 'tuple'>\n"
          ]
        },
        {
          "output_type": "execute_result",
          "data": {
            "text/plain": [
              "0"
            ]
          },
          "metadata": {},
          "execution_count": 44
        }
      ]
    },
    {
      "cell_type": "markdown",
      "source": [
        "7.가변 keyword\n",
        "가변 keyword는 파라미터 이름에 **를 붙인다\n",
        "keyword방식으로 입력되는 인자의 개수에 상관없이 모두 받아온다."
      ],
      "metadata": {
        "id": "1fH7SyGhrWJk"
      }
    },
    {
      "cell_type": "code",
      "source": [
        "def proc(**a) #keyword를 받겠다 -> **"
      ],
      "metadata": {
        "id": "0l_2r5horVOr"
      },
      "execution_count": null,
      "outputs": []
    },
    {
      "cell_type": "code",
      "source": [
        "def proc(**a):\n",
        "  print(type(a))\n",
        "  print(a[x],a[y])\n",
        "  return a"
      ],
      "metadata": {
        "id": "8rIR1NQFrxpF"
      },
      "execution_count": 32,
      "outputs": []
    },
    {
      "cell_type": "code",
      "source": [
        "# 인자로 넘겨준 이름을 dict의 키로 사용한다.\n",
        "proc(x=2,y=3)"
      ],
      "metadata": {
        "colab": {
          "base_uri": "https://localhost:8080/"
        },
        "id": "RG1qGa_GsA_i",
        "outputId": "937f5fc5-0944-4252-ec01-f6ef7be02afe"
      },
      "execution_count": 39,
      "outputs": [
        {
          "output_type": "stream",
          "name": "stdout",
          "text": [
            "<class 'dict'>\n"
          ]
        },
        {
          "output_type": "execute_result",
          "data": {
            "text/plain": [
              "{'x': 2, 'y': 3}"
            ]
          },
          "metadata": {},
          "execution_count": 39
        }
      ]
    },
    {
      "cell_type": "code",
      "source": [
        "proc(x=3, y=1, z=[1,2,3])"
      ],
      "metadata": {
        "colab": {
          "base_uri": "https://localhost:8080/"
        },
        "id": "PrRwQV-9sQ5D",
        "outputId": "abeabcab-ba0e-45c5-d360-d0522a50b5c4"
      },
      "execution_count": 41,
      "outputs": [
        {
          "output_type": "stream",
          "name": "stdout",
          "text": [
            "<class 'dict'>\n"
          ]
        },
        {
          "output_type": "execute_result",
          "data": {
            "text/plain": [
              "{'x': 3, 'y': 1, 'z': [1, 2, 3]}"
            ]
          },
          "metadata": {},
          "execution_count": 41
        }
      ]
    },
    {
      "cell_type": "markdown",
      "source": [
        "### 가변 keyword / 가변 positional은 한 번만 사용 할 수 있다."
      ],
      "metadata": {
        "id": "z1yL1XKms4za"
      }
    },
    {
      "cell_type": "code",
      "source": [
        "def proc(*a, *b):\n",
        "  return a,b   #error"
      ],
      "metadata": {
        "id": "3EX6Kq9PtDYj"
      },
      "execution_count": null,
      "outputs": []
    },
    {
      "cell_type": "code",
      "source": [
        "def proc(**a,**b):\n",
        "  return a,b    #error"
      ],
      "metadata": {
        "id": "KNV5D9ijtM4a"
      },
      "execution_count": null,
      "outputs": []
    },
    {
      "cell_type": "markdown",
      "source": [
        "### return\n",
        "1. 함수의 결과값을 넘겨주는 목적으로 사용한다.\n",
        "2. 함수를 강제적으로 종료할 때 사용한다.\n",
        "3. 함수에서 return을 2번 이상 사용할 수 없다.\n",
        "4. 함수의 결과를 2개 이상으로 받고 싶다면 unpacking해서 받는다.                                                      "
      ],
      "metadata": {
        "id": "A5SJfDPrucdj"
      }
    },
    {
      "cell_type": "code",
      "source": [
        "def proc(*a):\n",
        "  total = 0\n",
        "  avg = 0\n",
        "  for i in a:\n",
        "    total +=i\n",
        "\n",
        "  avg = total/len(a)\n",
        "  return total,avg"
      ],
      "metadata": {
        "id": "dP-H_N3du8q9"
      },
      "execution_count": 53,
      "outputs": []
    },
    {
      "cell_type": "code",
      "source": [
        "#함수의 결과를 2개로 받고 싶을 때 unpacking을 사용하면 된다.\n",
        "total,avg = proc(1,2,3,4)\n",
        "print(total)\n",
        "print(avg)"
      ],
      "metadata": {
        "colab": {
          "base_uri": "https://localhost:8080/"
        },
        "id": "apd_yn7ZtSXV",
        "outputId": "c2e14cb4-5ea1-435a-d40d-c57f49a17d8a"
      },
      "execution_count": 54,
      "outputs": [
        {
          "output_type": "stream",
          "name": "stdout",
          "text": [
            "10\n",
            "2.5\n"
          ]
        }
      ]
    },
    {
      "cell_type": "code",
      "source": [
        "def proc(**a):\n",
        "  total = 0\n",
        "  avg = 0\n",
        "\n",
        "  #for key in a:\n",
        "   # total += a[key] #\n",
        "  for key,value in a.items():\n",
        "    total += value\n",
        "\n",
        "  avg = total/len(a)\n",
        "  return (total,avg)"
      ],
      "metadata": {
        "id": "xIFTILyVzGcB"
      },
      "execution_count": 65,
      "outputs": []
    },
    {
      "cell_type": "code",
      "source": [
        "tota,avg =proc(a=1,b=2,c=3,d=4)\n",
        "print(total)\n",
        "print(avg)"
      ],
      "metadata": {
        "colab": {
          "base_uri": "https://localhost:8080/"
        },
        "id": "NYGfsGkjzgDB",
        "outputId": "56dce3f7-9e58-4208-f373-0e20f92d0bf7"
      },
      "execution_count": 59,
      "outputs": [
        {
          "output_type": "stream",
          "name": "stdout",
          "text": [
            "10\n",
            "2.5\n"
          ]
        }
      ]
    },
    {
      "cell_type": "markdown",
      "source": [
        "###overloading\n",
        "단일클래스 함수의 이름은 같은데 ,매개변수 개수 또는 매개변수의 타입이 달라야 한다.\n",
        "python은 over load를 지원하지 않는다."
      ],
      "metadata": {
        "id": "uqCJI0i91QVb"
      }
    },
    {
      "cell_type": "code",
      "source": [
        "def add(a):\n",
        "  return a+1"
      ],
      "metadata": {
        "id": "d10x7BpDz0gp"
      },
      "execution_count": 66,
      "outputs": []
    },
    {
      "cell_type": "code",
      "source": [
        "add(6)"
      ],
      "metadata": {
        "colab": {
          "base_uri": "https://localhost:8080/"
        },
        "id": "8LqipMlH2BZA",
        "outputId": "dee1c350-eb85-4e16-b7b2-2bb50a452807"
      },
      "execution_count": 67,
      "outputs": [
        {
          "output_type": "execute_result",
          "data": {
            "text/plain": [
              "7"
            ]
          },
          "metadata": {},
          "execution_count": 67
        }
      ]
    },
    {
      "cell_type": "code",
      "source": [
        "def add(a,b):\n",
        "  return a+b"
      ],
      "metadata": {
        "id": "pzqpEPzO2CsH"
      },
      "execution_count": 68,
      "outputs": []
    },
    {
      "cell_type": "code",
      "source": [
        "def add(a):\n",
        "  return a+1\n",
        "\n",
        "def add(a,b):\n",
        "  return a+b\n",
        "\n",
        "add(3) #add(a)에서 add(a,b)로 바뀌기 때문에 오류\n",
        "add(5,6)"
      ],
      "metadata": {
        "id": "s1KqKtXu2GED"
      },
      "execution_count": null,
      "outputs": []
    },
    {
      "cell_type": "code",
      "source": [
        "def proc(a,b) : \n",
        "  return a+ b"
      ],
      "metadata": {
        "id": "TXobuNha2_tg"
      },
      "execution_count": 72,
      "outputs": []
    },
    {
      "cell_type": "code",
      "source": [
        "type(proc)"
      ],
      "metadata": {
        "colab": {
          "base_uri": "https://localhost:8080/"
        },
        "id": "Lj5QTxnY3Etg",
        "outputId": "8efc4da6-5182-4731-9861-330984b2f2c3"
      },
      "execution_count": 73,
      "outputs": [
        {
          "output_type": "execute_result",
          "data": {
            "text/plain": [
              "function"
            ]
          },
          "metadata": {},
          "execution_count": 73
        }
      ]
    },
    {
      "cell_type": "code",
      "source": [
        "dir(proc)"
      ],
      "metadata": {
        "id": "kNElUs5o3GqQ"
      },
      "execution_count": null,
      "outputs": []
    },
    {
      "cell_type": "code",
      "source": [
        "type(proc.__name__)"
      ],
      "metadata": {
        "colab": {
          "base_uri": "https://localhost:8080/"
        },
        "id": "2VBkTQEh3WvY",
        "outputId": "8d7b21fd-41cc-4f1d-9b81-fe728d4dc9bb"
      },
      "execution_count": 75,
      "outputs": [
        {
          "output_type": "execute_result",
          "data": {
            "text/plain": [
              "str"
            ]
          },
          "metadata": {},
          "execution_count": 75
        }
      ]
    },
    {
      "cell_type": "code",
      "source": [
        "# __name__은 함수이름을 알려준다.\n",
        "proc.__name__ #proc"
      ],
      "metadata": {
        "colab": {
          "base_uri": "https://localhost:8080/",
          "height": 35
        },
        "id": "LMUr9Bb63hCY",
        "outputId": "71b9c8e9-10b6-448d-aa16-eeb7529b966a"
      },
      "execution_count": 77,
      "outputs": [
        {
          "output_type": "execute_result",
          "data": {
            "text/plain": [
              "'proc'"
            ],
            "application/vnd.google.colaboratory.intrinsic+json": {
              "type": "string"
            }
          },
          "metadata": {},
          "execution_count": 77
        }
      ]
    },
    {
      "cell_type": "code",
      "source": [
        "display = proc; #proc->함수식을 가져오라 proc()-> 함수식을 수행해라"
      ],
      "metadata": {
        "id": "Y45pfJvs3t13"
      },
      "execution_count": 78,
      "outputs": []
    },
    {
      "cell_type": "code",
      "source": [
        "#함수를 다른 함수에 재할당해도 __name__은 원래 이름을 알려준다.\n",
        "display.__name__"
      ],
      "metadata": {
        "colab": {
          "base_uri": "https://localhost:8080/",
          "height": 35
        },
        "id": "3ARI4PG434Bg",
        "outputId": "8a30553e-ff6a-4767-db78-913119cbf214"
      },
      "execution_count": 79,
      "outputs": [
        {
          "output_type": "execute_result",
          "data": {
            "text/plain": [
              "'proc'"
            ],
            "application/vnd.google.colaboratory.intrinsic+json": {
              "type": "string"
            }
          },
          "metadata": {},
          "execution_count": 79
        }
      ]
    },
    {
      "cell_type": "code",
      "source": [
        "display"
      ],
      "metadata": {
        "colab": {
          "base_uri": "https://localhost:8080/"
        },
        "id": "pREOLf2G4PY3",
        "outputId": "4cd88bc5-bff8-4df4-fe62-28163305a65e"
      },
      "execution_count": 81,
      "outputs": [
        {
          "output_type": "execute_result",
          "data": {
            "text/plain": [
              "<function __main__.proc(a, b)>"
            ]
          },
          "metadata": {},
          "execution_count": 81
        }
      ]
    },
    {
      "cell_type": "code",
      "source": [
        "display(3,4)"
      ],
      "metadata": {
        "colab": {
          "base_uri": "https://localhost:8080/"
        },
        "id": "Wqlbluma4TkH",
        "outputId": "7f134cba-d318-4548-aa01-c6a7b36d540d"
      },
      "execution_count": 82,
      "outputs": [
        {
          "output_type": "execute_result",
          "data": {
            "text/plain": [
              "7"
            ]
          },
          "metadata": {},
          "execution_count": 82
        }
      ]
    },
    {
      "cell_type": "markdown",
      "source": [
        "### python은 외부에서 함수 내부로 접근 할 수 없다.z는 함수내에서 할당되었으므로 함수밖에서 호출할 수 없다."
      ],
      "metadata": {
        "id": "XvBc3OtR49ig"
      }
    },
    {
      "cell_type": "code",
      "source": [
        "def proc():\n",
        "  z = 1"
      ],
      "metadata": {
        "id": "qyeob2Dy5IDv"
      },
      "execution_count": 87,
      "outputs": []
    },
    {
      "cell_type": "code",
      "source": [
        "z"
      ],
      "metadata": {
        "id": "y50k4wT25Kyv"
      },
      "execution_count": null,
      "outputs": []
    },
    {
      "cell_type": "markdown",
      "source": [
        "###함수 내부에서는 외부에 접근할 수 있다"
      ],
      "metadata": {
        "id": "NH4CXJoz50Qn"
      }
    },
    {
      "cell_type": "code",
      "source": [
        "c= 10\n",
        "def display():\n",
        "  print(c)"
      ],
      "metadata": {
        "id": "5IRdpx5r5ZjL"
      },
      "execution_count": 88,
      "outputs": []
    },
    {
      "cell_type": "code",
      "source": [
        "display()"
      ],
      "metadata": {
        "colab": {
          "base_uri": "https://localhost:8080/"
        },
        "id": "4j3Y3DIH5dQd",
        "outputId": "822d2dc9-e673-46b0-babe-4ecef42f8c7b"
      },
      "execution_count": 89,
      "outputs": [
        {
          "output_type": "stream",
          "name": "stdout",
          "text": [
            "10\n"
          ]
        }
      ]
    },
    {
      "cell_type": "markdown",
      "source": [
        "### 함수에서 외부의 값을 접근할 수 있지만, 변경은 할 수 없다."
      ],
      "metadata": {
        "id": "LHeNWFWQ6I8n"
      }
    },
    {
      "cell_type": "code",
      "source": [
        "t = 3\n",
        "def prn():\n",
        "  t = t + 1\n",
        "  print(t)"
      ],
      "metadata": {
        "id": "K0X4IOKu53Rn"
      },
      "execution_count": 93,
      "outputs": []
    },
    {
      "cell_type": "code",
      "source": [
        "prn()"
      ],
      "metadata": {
        "colab": {
          "base_uri": "https://localhost:8080/",
          "height": 283
        },
        "id": "njNugJIt6U4u",
        "outputId": "42c1c207-814d-4002-aa7d-e36429bbf5bb"
      },
      "execution_count": 94,
      "outputs": [
        {
          "output_type": "error",
          "ename": "UnboundLocalError",
          "evalue": "ignored",
          "traceback": [
            "\u001b[0;31m---------------------------------------------------------------------------\u001b[0m",
            "\u001b[0;31mUnboundLocalError\u001b[0m                         Traceback (most recent call last)",
            "\u001b[0;32m<ipython-input-94-9f4e808490c5>\u001b[0m in \u001b[0;36m<module>\u001b[0;34m\u001b[0m\n\u001b[0;32m----> 1\u001b[0;31m \u001b[0mprn\u001b[0m\u001b[0;34m(\u001b[0m\u001b[0;34m)\u001b[0m\u001b[0;34m\u001b[0m\u001b[0;34m\u001b[0m\u001b[0m\n\u001b[0m",
            "\u001b[0;32m<ipython-input-93-8e9edadaef62>\u001b[0m in \u001b[0;36mprn\u001b[0;34m()\u001b[0m\n\u001b[1;32m      1\u001b[0m \u001b[0mt\u001b[0m \u001b[0;34m=\u001b[0m \u001b[0;36m3\u001b[0m\u001b[0;34m\u001b[0m\u001b[0;34m\u001b[0m\u001b[0m\n\u001b[1;32m      2\u001b[0m \u001b[0;32mdef\u001b[0m \u001b[0mprn\u001b[0m\u001b[0;34m(\u001b[0m\u001b[0;34m)\u001b[0m\u001b[0;34m:\u001b[0m\u001b[0;34m\u001b[0m\u001b[0;34m\u001b[0m\u001b[0m\n\u001b[0;32m----> 3\u001b[0;31m   \u001b[0mt\u001b[0m \u001b[0;34m=\u001b[0m \u001b[0mt\u001b[0m \u001b[0;34m+\u001b[0m \u001b[0;36m1\u001b[0m\u001b[0;34m\u001b[0m\u001b[0;34m\u001b[0m\u001b[0m\n\u001b[0m\u001b[1;32m      4\u001b[0m   \u001b[0mprint\u001b[0m\u001b[0;34m(\u001b[0m\u001b[0mt\u001b[0m\u001b[0;34m)\u001b[0m\u001b[0;34m\u001b[0m\u001b[0;34m\u001b[0m\u001b[0m\n",
            "\u001b[0;31mUnboundLocalError\u001b[0m: local variable 't' referenced before assignment"
          ]
        }
      ]
    },
    {
      "cell_type": "markdown",
      "source": [
        "### global은 내부와 외부의 객체를 동기화(sync) 시켜준다.\n",
        "### global은 사용하기는 편하지만 언제 바뀌었는지 흐름을 파악하기 힘들기 때문에 남용은 하지 않는다.(외부꺼는 내부에서 변경)"
      ],
      "metadata": {
        "id": "a9xWll_e6u6P"
      }
    },
    {
      "cell_type": "code",
      "source": [
        "t = 3\n",
        "def prn():\n",
        "  global t\n",
        "  t = t + 1\n",
        "  print(t)"
      ],
      "metadata": {
        "id": "BC3UVJ496dk3"
      },
      "execution_count": 95,
      "outputs": []
    },
    {
      "cell_type": "code",
      "source": [
        "prn()"
      ],
      "metadata": {
        "colab": {
          "base_uri": "https://localhost:8080/"
        },
        "id": "naw8XT7_6dev",
        "outputId": "edcd7b5c-ef02-4760-acc4-f1c0f8bdc8cc"
      },
      "execution_count": 96,
      "outputs": [
        {
          "output_type": "stream",
          "name": "stdout",
          "text": [
            "4\n"
          ]
        }
      ]
    },
    {
      "cell_type": "code",
      "source": [
        "#외부의 자원도 값이 변경이 되어서 출력이 된다.\n",
        "t"
      ],
      "metadata": {
        "colab": {
          "base_uri": "https://localhost:8080/"
        },
        "id": "9PdxKTBu7A4H",
        "outputId": "9060abed-51ea-4447-ef48-4c0da59dcd83"
      },
      "execution_count": 97,
      "outputs": [
        {
          "output_type": "execute_result",
          "data": {
            "text/plain": [
              "4"
            ]
          },
          "metadata": {},
          "execution_count": 97
        }
      ]
    },
    {
      "cell_type": "markdown",
      "source": [
        "### 중첩함수 사용"
      ],
      "metadata": {
        "id": "h9U5fek08Ccv"
      }
    },
    {
      "cell_type": "code",
      "source": [
        "k = 1\n",
        "def outer():\n",
        " m = 1\n",
        " def inner():\n",
        "   global k #완전밖\n",
        "   k = k+1\n",
        "   nonlocal m #outer()\n",
        "   m = m+1\n",
        "   return k,m\n",
        " return inner()"
      ],
      "metadata": {
        "id": "ZWnOPdSm8Fdx"
      },
      "execution_count": 116,
      "outputs": []
    },
    {
      "cell_type": "code",
      "source": [
        "outer()"
      ],
      "metadata": {
        "colab": {
          "base_uri": "https://localhost:8080/"
        },
        "id": "Vs3wi8Tc8UgS",
        "outputId": "09fc1034-a98e-46f6-a7b0-400a8aeb5e6e"
      },
      "execution_count": 117,
      "outputs": [
        {
          "output_type": "execute_result",
          "data": {
            "text/plain": [
              "(2, 2)"
            ]
          },
          "metadata": {},
          "execution_count": 117
        }
      ]
    },
    {
      "cell_type": "code",
      "source": [
        "import sys\n",
        "print(type(sys.modules))\n",
        "print('\\n'.join(sys.modules.keys()))"
      ],
      "metadata": {
        "id": "wzddMchRIGmu"
      },
      "execution_count": null,
      "outputs": []
    },
    {
      "cell_type": "code",
      "source": [
        "from math import sin\n",
        "print(sin.__module__)\n",
        "\n",
        "from cmd import Cmd\n",
        "print(Cmd.__module__)"
      ],
      "metadata": {
        "colab": {
          "base_uri": "https://localhost:8080/"
        },
        "id": "e4A9oBNATnCH",
        "outputId": "6af8bc22-6f58-49ed-e4f1-f1347b7dc6dd"
      },
      "execution_count": 134,
      "outputs": [
        {
          "output_type": "stream",
          "name": "stdout",
          "text": [
            "math\n",
            "cmd\n"
          ]
        }
      ]
    },
    {
      "cell_type": "markdown",
      "source": [
        "패키지를 생성하면 __init__.py파일이 반드시 있어야 한다."
      ],
      "metadata": {
        "id": "-off4Nm0VWB6"
      }
    },
    {
      "cell_type": "markdown",
      "source": [
        "function\n",
        "1.keyword(/,*,**)\n",
        "2.overloading\n",
        "3.외부 자원 변경(global,nonlocal)\n",
        "\n",
        "interning\n",
        "1.숫자(-5 ~ 256)\n",
        "  interning으로 지정할 수 없음\n",
        "2. 문자(a-zA-ZO-9_z)\n",
        "  interning으로 지정할 수 있음\n",
        "\n",
        "module And package\n",
        "1.모듈\n",
        "2.패키지\n",
        "\n",
        "import 모듈 == from 모듈 import *\n",
        "from 패키지.모듈 import 변수,함수,클래스\n",
        "\n"
      ],
      "metadata": {
        "id": "Jq4DIjIiWyvG"
      }
    },
    {
      "cell_type": "markdown",
      "source": [
        "###Lambda"
      ],
      "metadata": {
        "id": "IeTzuzzUcZYf"
      }
    },
    {
      "cell_type": "code",
      "source": [
        "plus_ten2 = lambda x : x + 10\n",
        "plus_ten2(1)"
      ],
      "metadata": {
        "colab": {
          "base_uri": "https://localhost:8080/"
        },
        "id": "LmvaVqg7VyBP",
        "outputId": "27cc469b-23f7-4005-d421-1a2c3128b5ad"
      },
      "execution_count": 136,
      "outputs": [
        {
          "output_type": "execute_result",
          "data": {
            "text/plain": [
              "11"
            ]
          },
          "metadata": {},
          "execution_count": 136
        }
      ]
    },
    {
      "cell_type": "code",
      "source": [
        "(lambda x:x + 10)(1)"
      ],
      "metadata": {
        "colab": {
          "base_uri": "https://localhost:8080/"
        },
        "id": "xYhhbZKRcsIc",
        "outputId": "3ce1b4f0-dfa1-4b49-bfe3-0ccc1da261b4"
      },
      "execution_count": 137,
      "outputs": [
        {
          "output_type": "execute_result",
          "data": {
            "text/plain": [
              "11"
            ]
          },
          "metadata": {},
          "execution_count": 137
        }
      ]
    },
    {
      "cell_type": "code",
      "source": [
        "(lambda x:y =10;x+y)(1) #람다함수 안에서는 변수 만들 수 없음"
      ],
      "metadata": {
        "id": "RbOmeopFc9X1"
      },
      "execution_count": null,
      "outputs": []
    },
    {
      "cell_type": "code",
      "source": [
        "y = 10\n",
        "(lambda x:x+y)(1)"
      ],
      "metadata": {
        "colab": {
          "base_uri": "https://localhost:8080/"
        },
        "id": "0m9lERn1dCw8",
        "outputId": "9d6f631b-9859-47ab-cdc5-bbade61451c9"
      },
      "execution_count": 139,
      "outputs": [
        {
          "output_type": "execute_result",
          "data": {
            "text/plain": [
              "11"
            ]
          },
          "metadata": {},
          "execution_count": 139
        }
      ]
    },
    {
      "cell_type": "code",
      "source": [
        "def foo(func,a):\n",
        "  return func(a)\n",
        "\n",
        "def ss(a):\n",
        "  return a+1\n",
        "foo(ss,1)"
      ],
      "metadata": {
        "colab": {
          "base_uri": "https://localhost:8080/"
        },
        "id": "vwQIxs2if-4k",
        "outputId": "0cb1a980-0115-43c3-e69e-227cb1a05533"
      },
      "execution_count": 143,
      "outputs": [
        {
          "output_type": "execute_result",
          "data": {
            "text/plain": [
              "2"
            ]
          },
          "metadata": {},
          "execution_count": 143
        }
      ]
    },
    {
      "cell_type": "code",
      "source": [
        "def x(n):\n",
        "  def y(m):\n",
        "    return n+m\n",
        "  return y"
      ],
      "metadata": {
        "id": "63uD2E5DhBrN"
      },
      "execution_count": 153,
      "outputs": []
    },
    {
      "cell_type": "code",
      "source": [
        "k = x(3)"
      ],
      "metadata": {
        "id": "GwVCkVxHhRjT"
      },
      "execution_count": 163,
      "outputs": []
    },
    {
      "cell_type": "code",
      "source": [
        "k"
      ],
      "metadata": {
        "colab": {
          "base_uri": "https://localhost:8080/"
        },
        "id": "Q0JCmxBCiZX2",
        "outputId": "6b21cacf-aab3-4734-ff2d-7c589e784de7"
      },
      "execution_count": 164,
      "outputs": [
        {
          "output_type": "execute_result",
          "data": {
            "text/plain": [
              "<function __main__.x.<locals>.y(m)>"
            ]
          },
          "metadata": {},
          "execution_count": 164
        }
      ]
    },
    {
      "cell_type": "code",
      "source": [
        "k(4)"
      ],
      "metadata": {
        "colab": {
          "base_uri": "https://localhost:8080/"
        },
        "id": "oEmCKC3DibdD",
        "outputId": "5d58ce0c-0994-4455-9a56-38fc91aa024d"
      },
      "execution_count": 165,
      "outputs": [
        {
          "output_type": "execute_result",
          "data": {
            "text/plain": [
              "7"
            ]
          },
          "metadata": {},
          "execution_count": 165
        }
      ]
    },
    {
      "cell_type": "markdown",
      "source": [
        "5.일급객체함수  \n",
        "-변수나 데이터 구조에 넣을 수 있어야 한다.  \n",
        "-매개변수에 전달할 수 있어야 한다.  \n",
        "-반환값으로 사용할 수 있어야 한다."
      ],
      "metadata": {
        "id": "mtEkeG1TjIzd"
      }
    },
    {
      "cell_type": "markdown",
      "source": [
        "-Loop를 쓰면 이해하기 쉬운 장점이 있음  \n",
        "-Loop는 논리적 흐름을 깨는 경우가 있어 프로그램의 버그를 만들기 쉬운 단점  \n",
        "-코드 왔다갔다 해야하므로 속도느림\n",
        "\n",
        "loop사용하지 않는 기법\n",
        "-iterator,generator\n",
        "-recursion\n",
        "-comprehension\n",
        "-map,filter,reduce"
      ],
      "metadata": {
        "id": "cgiCWmVdju_L"
      }
    },
    {
      "cell_type": "markdown",
      "source": [
        "Comprehension이란 iterable한 오브젝트를 생성하기 위한 방법 중 하나\n",
        "-List Comprehension\n",
        "-Set  Comprehension\n",
        "-Dict Comprehension"
      ],
      "metadata": {
        "id": "MZFH7pEakx4y"
      }
    },
    {
      "cell_type": "markdown",
      "source": [
        "List Comprehension  \n",
        "-리스트 정의시 값을 정하지 않고 호출 시 리스트 내의 값들이 처리되도록 구성\n",
        "\n",
        "-A = [표현식 for i in sequence if 논리식]\n"
      ],
      "metadata": {
        "id": "h3Ky9ImjlTfs"
      }
    },
    {
      "cell_type": "markdown",
      "source": [],
      "metadata": {
        "id": "kVSV5JlsligS"
      }
    },
    {
      "cell_type": "code",
      "source": [
        "squares = []\n",
        "for x in range(10) :\n",
        "  squares.append(x**2)\n",
        "print(squares)"
      ],
      "metadata": {
        "colab": {
          "base_uri": "https://localhost:8080/"
        },
        "id": "F5dhJMJ7kxWz",
        "outputId": "bfccf751-3751-4c18-9e4c-b963973c6f34"
      },
      "execution_count": 167,
      "outputs": [
        {
          "output_type": "stream",
          "name": "stdout",
          "text": [
            "[0, 1, 4, 9, 16, 25, 36, 49, 64, 81]\n"
          ]
        }
      ]
    },
    {
      "cell_type": "code",
      "source": [
        "squares = [x**2 for x in range(10)]\n",
        "print(squares)"
      ],
      "metadata": {
        "colab": {
          "base_uri": "https://localhost:8080/"
        },
        "id": "NkRAj5l8l04K",
        "outputId": "2a9053d5-40df-45ce-8885-e33518c5cc4a"
      },
      "execution_count": 168,
      "outputs": [
        {
          "output_type": "stream",
          "name": "stdout",
          "text": [
            "[0, 1, 4, 9, 16, 25, 36, 49, 64, 81]\n"
          ]
        }
      ]
    },
    {
      "cell_type": "code",
      "source": [
        "squares11 = []\n",
        "for i in range(5):\n",
        "  for j in range(5) :\n",
        "    if j% 2 == 0 :\n",
        "      squares11.append((i,j))\n",
        "print(squares11)"
      ],
      "metadata": {
        "colab": {
          "base_uri": "https://localhost:8080/"
        },
        "id": "oawtqse1mW9C",
        "outputId": "acdcb6c9-a6be-4294-b26f-6748d82f2e1b"
      },
      "execution_count": 173,
      "outputs": [
        {
          "output_type": "stream",
          "name": "stdout",
          "text": [
            "[(0, 0), (0, 2), (0, 4), (1, 0), (1, 2), (1, 4), (2, 0), (2, 2), (2, 4), (3, 0), (3, 2), (3, 4), (4, 0), (4, 2), (4, 4)]\n"
          ]
        }
      ]
    },
    {
      "cell_type": "code",
      "source": [
        "squares12 = [(x,y) for x in range(5) for y in range(5) if y%2 ==0]\n",
        "print(squares12)"
      ],
      "metadata": {
        "colab": {
          "base_uri": "https://localhost:8080/"
        },
        "id": "YqnWdg_8mvAa",
        "outputId": "c3e5bc63-394e-43d0-ba92-5fcc8df18e61"
      },
      "execution_count": 172,
      "outputs": [
        {
          "output_type": "stream",
          "name": "stdout",
          "text": [
            "[(0, 0), (0, 2), (0, 4), (1, 0), (1, 2), (1, 4), (2, 0), (2, 2), (2, 4), (3, 0), (3, 2), (3, 4), (4, 0), (4, 2), (4, 4)]\n"
          ]
        }
      ]
    },
    {
      "cell_type": "code",
      "source": [
        "lh = [lambda x : x+n for n in range(5)]\n",
        "print(lh)\n",
        "for i in lh :\n",
        "    print(i(0))"
      ],
      "metadata": {
        "colab": {
          "base_uri": "https://localhost:8080/"
        },
        "id": "9HQc2mofncAx",
        "outputId": "a0431ff1-ab0f-44da-c1eb-16fc87d9dfbd"
      },
      "execution_count": 176,
      "outputs": [
        {
          "output_type": "stream",
          "name": "stdout",
          "text": [
            "[<function <listcomp>.<lambda> at 0x7f30d75720d0>, <function <listcomp>.<lambda> at 0x7f30d7572c10>, <function <listcomp>.<lambda> at 0x7f30d7572940>, <function <listcomp>.<lambda> at 0x7f30d7572820>, <function <listcomp>.<lambda> at 0x7f30d7572790>]\n",
            "4\n",
            "4\n",
            "4\n",
            "4\n",
            "4\n"
          ]
        }
      ]
    },
    {
      "cell_type": "code",
      "source": [
        "print(lh)\n",
        "lh[0]#i는lh[0]이다"
      ],
      "metadata": {
        "colab": {
          "base_uri": "https://localhost:8080/"
        },
        "id": "FQ6RwEbOpMyR",
        "outputId": "d072525f-8801-4c79-c364-7c215236a9fd"
      },
      "execution_count": 185,
      "outputs": [
        {
          "output_type": "stream",
          "name": "stdout",
          "text": [
            "[<function <listcomp>.<lambda> at 0x7f30d7638dc0>, <function <listcomp>.<lambda> at 0x7f30d7638700>, <function <listcomp>.<lambda> at 0x7f30d76381f0>, <function <listcomp>.<lambda> at 0x7f30d7638280>, <function <listcomp>.<lambda> at 0x7f30d76380d0>]\n"
          ]
        },
        {
          "output_type": "execute_result",
          "data": {
            "text/plain": [
              "<function __main__.<listcomp>.<lambda>(x, m=0)>"
            ]
          },
          "metadata": {},
          "execution_count": 185
        }
      ]
    },
    {
      "cell_type": "code",
      "source": [
        "i = lh[0]\n",
        "print(i(0))"
      ],
      "metadata": {
        "colab": {
          "base_uri": "https://localhost:8080/"
        },
        "id": "TJf467wbpswR",
        "outputId": "8f260e92-3b3b-4b12-9596-41c0c6f9e7ff"
      },
      "execution_count": 179,
      "outputs": [
        {
          "output_type": "stream",
          "name": "stdout",
          "text": [
            "4\n"
          ]
        }
      ]
    },
    {
      "cell_type": "code",
      "source": [
        "lh = [lambda x,m=n : x+m for n in range(5)]\n",
        "print(lh)\n",
        "for i in lh :\n",
        "  print(i(0))"
      ],
      "metadata": {
        "colab": {
          "base_uri": "https://localhost:8080/"
        },
        "id": "1zMr3bhrqU3Z",
        "outputId": "dd3e96c5-c16c-4a3a-ca57-31f255110e73"
      },
      "execution_count": 182,
      "outputs": [
        {
          "output_type": "stream",
          "name": "stdout",
          "text": [
            "[<function <listcomp>.<lambda> at 0x7f30d7638dc0>, <function <listcomp>.<lambda> at 0x7f30d7638700>, <function <listcomp>.<lambda> at 0x7f30d76381f0>, <function <listcomp>.<lambda> at 0x7f30d7638280>, <function <listcomp>.<lambda> at 0x7f30d76380d0>]\n",
            "0\n",
            "1\n",
            "2\n",
            "3\n",
            "4\n"
          ]
        }
      ]
    },
    {
      "cell_type": "code",
      "source": [
        "print(lh)"
      ],
      "metadata": {
        "colab": {
          "base_uri": "https://localhost:8080/"
        },
        "id": "Y7LN3JepsrVB",
        "outputId": "c081de3c-a8aa-48d0-e6d7-7e1b9f945afe"
      },
      "execution_count": 184,
      "outputs": [
        {
          "output_type": "stream",
          "name": "stdout",
          "text": [
            "[<function <listcomp>.<lambda> at 0x7f30d7638dc0>, <function <listcomp>.<lambda> at 0x7f30d7638700>, <function <listcomp>.<lambda> at 0x7f30d76381f0>, <function <listcomp>.<lambda> at 0x7f30d7638280>, <function <listcomp>.<lambda> at 0x7f30d76380d0>]\n"
          ]
        }
      ]
    },
    {
      "cell_type": "markdown",
      "source": [
        "Dict Comprehension  \n",
        "-A = {표현식 for (k,v) in sequence if 논리식}"
      ],
      "metadata": {
        "id": "sszQXJ4TuYRp"
      }
    },
    {
      "cell_type": "code",
      "source": [
        "d= {}\n",
        "for (k,v) in zip(range(9),range(9)) :\n",
        "  d[k] = v\n",
        "print(d)"
      ],
      "metadata": {
        "colab": {
          "base_uri": "https://localhost:8080/"
        },
        "id": "zABN-QrTuXew",
        "outputId": "a15c40de-fbd0-464a-d3ae-0ead9bca359d"
      },
      "execution_count": 191,
      "outputs": [
        {
          "output_type": "stream",
          "name": "stdout",
          "text": [
            "{0: 0, 1: 1, 2: 2, 3: 3, 4: 4, 5: 5, 6: 6, 7: 7, 8: 8}\n"
          ]
        }
      ]
    },
    {
      "cell_type": "code",
      "source": [
        "d1 = {x:y for (x,y) in zip(range(9),range(9))}\n",
        "print(d1)"
      ],
      "metadata": {
        "colab": {
          "base_uri": "https://localhost:8080/"
        },
        "id": "Dlbo6UhTvCv4",
        "outputId": "e0c2d4db-a3e1-4281-ee43-5ae835b95edc"
      },
      "execution_count": 188,
      "outputs": [
        {
          "output_type": "stream",
          "name": "stdout",
          "text": [
            "{0: 0, 1: 1, 2: 2, 3: 3, 4: 4, 5: 5, 6: 6, 7: 7, 8: 8}\n"
          ]
        }
      ]
    },
    {
      "cell_type": "code",
      "source": [
        "a = {'x' : 1,'y' :2, 'z' :3}\n",
        "b = {'w' : 10,'x' : 11,'y' :2}\n",
        "\n",
        "print(a.keys() & b.keys())\n",
        "print(type(a.keys()))\n",
        "\n",
        "c = {key:a[key] for key in a.keys() - {'z','v'}}\n",
        "print(c)"
      ],
      "metadata": {
        "colab": {
          "base_uri": "https://localhost:8080/"
        },
        "id": "WZFHyegyvxuI",
        "outputId": "46cbcb79-5fde-44b7-dea3-c42dd14557ae"
      },
      "execution_count": 194,
      "outputs": [
        {
          "output_type": "stream",
          "name": "stdout",
          "text": [
            "{'y', 'x'}\n",
            "<class 'dict_keys'>\n",
            "{'y': 2, 'x': 1}\n"
          ]
        }
      ]
    },
    {
      "cell_type": "code",
      "source": [
        "squares11 = {}\n",
        "for i in range(5):\n",
        "  for j in range(5) :\n",
        "    if j% 2 == 0 :\n",
        "      squares11.setdefault(i,4)\n",
        "print(squares11)\n",
        "\n",
        "a1= {x:y for x in range(5) for y in range(5) if y%2 == 0} #setdeault y%2 ==0 마지막값 4가 setdefault값이된다\n",
        "print(a1)\n",
        "print(a1 == squares11)"
      ],
      "metadata": {
        "colab": {
          "base_uri": "https://localhost:8080/"
        },
        "id": "Zq7qsfzhw5bX",
        "outputId": "249f8aa1-a547-422f-a99c-10e1ed531e85"
      },
      "execution_count": 202,
      "outputs": [
        {
          "output_type": "stream",
          "name": "stdout",
          "text": [
            "{0: 4, 1: 4, 2: 4, 3: 4, 4: 4}\n",
            "{0: 4, 1: 4, 2: 4, 3: 4, 4: 4}\n",
            "True\n"
          ]
        }
      ]
    },
    {
      "cell_type": "code",
      "source": [
        "a2= {x:y for x in range(5) for y in range(10)}\n",
        "print(a2)"
      ],
      "metadata": {
        "colab": {
          "base_uri": "https://localhost:8080/"
        },
        "id": "-0BmfZvOxNI3",
        "outputId": "97ad51d5-7dc1-4428-fbbd-8c207009513d"
      },
      "execution_count": 206,
      "outputs": [
        {
          "output_type": "stream",
          "name": "stdout",
          "text": [
            "{0: 9, 1: 9, 2: 9, 3: 9, 4: 9}\n"
          ]
        }
      ]
    },
    {
      "cell_type": "markdown",
      "source": [
        "Set Comprehension\n",
        "-Set 정의시 값을 정하지 않고 호출 시 Set 내의 값들이 처리 되도록 구성  \n",
        "-A = {표현식 for i in sequence if 논리식}\n"
      ],
      "metadata": {
        "id": "XRmvRgZWzd9m"
      }
    },
    {
      "cell_type": "code",
      "source": [
        "s = set()\n",
        "for i in range(10):\n",
        "  s.add(i)\n",
        "print(s)"
      ],
      "metadata": {
        "colab": {
          "base_uri": "https://localhost:8080/"
        },
        "id": "oKG-Hl45zcs-",
        "outputId": "5055aae1-17a5-4ea7-d9e5-601f6fb132c7"
      },
      "execution_count": 208,
      "outputs": [
        {
          "output_type": "stream",
          "name": "stdout",
          "text": [
            "{0, 1, 2, 3, 4, 5, 6, 7, 8, 9}\n"
          ]
        }
      ]
    },
    {
      "cell_type": "code",
      "source": [
        "s1 = {x for x in range(10)}\n",
        "print(s1)"
      ],
      "metadata": {
        "colab": {
          "base_uri": "https://localhost:8080/"
        },
        "id": "Y4moqpHJzwDF",
        "outputId": "08115c5f-fb1f-4dca-be6a-8ce71f116a77"
      },
      "execution_count": 210,
      "outputs": [
        {
          "output_type": "stream",
          "name": "stdout",
          "text": [
            "{0, 1, 2, 3, 4, 5, 6, 7, 8, 9}\n"
          ]
        }
      ]
    },
    {
      "cell_type": "markdown",
      "source": [
        "A = {표현식 for i in requence for j in sequence if 논리식}"
      ],
      "metadata": {
        "id": "nNFDTuFq0Eq2"
      }
    },
    {
      "cell_type": "code",
      "source": [
        "s11 = set()\n",
        "for i in range(5) :\n",
        "  for j in range(5) :\n",
        "    if j % 2 == 0:\n",
        "      s11.add((i,j))\n",
        "print(s11)"
      ],
      "metadata": {
        "colab": {
          "base_uri": "https://localhost:8080/"
        },
        "id": "qNs3I0Nm0DOu",
        "outputId": "e990c6d6-7ceb-4b71-b72c-ef7501129100"
      },
      "execution_count": 211,
      "outputs": [
        {
          "output_type": "stream",
          "name": "stdout",
          "text": [
            "{(4, 4), (2, 4), (1, 2), (0, 4), (3, 4), (4, 0), (0, 0), (2, 0), (1, 4), (3, 0), (4, 2), (0, 2), (2, 2), (1, 0), (3, 2)}\n"
          ]
        }
      ]
    },
    {
      "cell_type": "code",
      "source": [
        "s1 = {(x,y) for x in range(5) for y in range(5) if y % 2 == 0}\n",
        "print(s1)"
      ],
      "metadata": {
        "colab": {
          "base_uri": "https://localhost:8080/"
        },
        "id": "QXGdEVUd0YCe",
        "outputId": "0fd415c0-59c2-45c2-c7fe-97890521e827"
      },
      "execution_count": 212,
      "outputs": [
        {
          "output_type": "stream",
          "name": "stdout",
          "text": [
            "{(4, 4), (2, 4), (1, 2), (0, 4), (3, 4), (4, 0), (0, 0), (2, 0), (1, 4), (3, 0), (4, 2), (0, 2), (2, 2), (1, 0), (3, 2)}\n"
          ]
        }
      ]
    }
  ]
}