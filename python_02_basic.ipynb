{
  "nbformat": 4,
  "nbformat_minor": 0,
  "metadata": {
    "colab": {
      "provenance": [],
      "collapsed_sections": [
        "toawTYI7mmBk",
        "YlmJh68AnLul",
        "GwOmxCWuqFhb"
      ],
      "authorship_tag": "ABX9TyN8oi66tYeQLnmrMw97bl9a",
      "include_colab_link": true
    },
    "kernelspec": {
      "name": "python3",
      "display_name": "Python 3"
    },
    "language_info": {
      "name": "python"
    }
  },
  "cells": [
    {
      "cell_type": "markdown",
      "metadata": {
        "id": "view-in-github",
        "colab_type": "text"
      },
      "source": [
        "<a href=\"https://colab.research.google.com/github/Leessunyyoung/Leessunyyoung.github.io/blob/master/python_02_basic.ipynb\" target=\"_parent\"><img src=\"https://colab.research.google.com/assets/colab-badge.svg\" alt=\"Open In Colab\"/></a>"
      ]
    },
    {
      "cell_type": "code",
      "execution_count": null,
      "metadata": {
        "id": "y9PhC4sNalZQ"
      },
      "outputs": [],
      "source": [
        "import this"
      ]
    },
    {
      "cell_type": "code",
      "source": [
        "import antigravity"
      ],
      "metadata": {
        "id": "P4nJ45bXa2rP"
      },
      "execution_count": null,
      "outputs": []
    },
    {
      "cell_type": "code",
      "source": [
        "antigravity"
      ],
      "metadata": {
        "colab": {
          "base_uri": "https://localhost:8080/"
        },
        "id": "b71CFW-Na9qe",
        "outputId": "e9588d6b-0b41-4737-8b25-814439744937"
      },
      "execution_count": null,
      "outputs": [
        {
          "output_type": "execute_result",
          "data": {
            "text/plain": [
              "<module 'antigravity' from '/usr/lib/python3.7/antigravity.py'>"
            ]
          },
          "metadata": {},
          "execution_count": 3
        }
      ]
    },
    {
      "cell_type": "code",
      "source": [
        "import keyword\n",
        "keyword.kwlist"
      ],
      "metadata": {
        "id": "5Wlj_2JEbAZS"
      },
      "execution_count": null,
      "outputs": []
    },
    {
      "cell_type": "code",
      "source": [
        "len(keyword.kwlist)"
      ],
      "metadata": {
        "colab": {
          "base_uri": "https://localhost:8080/"
        },
        "id": "wz7E-2uibDGB",
        "outputId": "9502ed04-b53a-47c0-d7bc-dc7e165bf5d7"
      },
      "execution_count": null,
      "outputs": [
        {
          "output_type": "execute_result",
          "data": {
            "text/plain": [
              "35"
            ]
          },
          "metadata": {},
          "execution_count": 9
        }
      ]
    },
    {
      "cell_type": "code",
      "source": [
        "print('hello world')"
      ],
      "metadata": {
        "colab": {
          "base_uri": "https://localhost:8080/"
        },
        "id": "Jx1XiH6Nba9_",
        "outputId": "6c862104-e328-49bf-b711-fd3f747dca15"
      },
      "execution_count": null,
      "outputs": [
        {
          "output_type": "stream",
          "name": "stdout",
          "text": [
            "hello world\n"
          ]
        }
      ]
    },
    {
      "cell_type": "markdown",
      "source": [
        "## 접근제어자\n",
        "단일 언어 스코어(_)  -> protected  \n",
        "두개 언어 스코어(__)  -> private"
      ],
      "metadata": {
        "id": "2C9Vi-XQgVeG"
      }
    },
    {
      "cell_type": "code",
      "source": [
        "#들여쓰기\n",
        "a =10; b = 20\n",
        "if(a == 10) and \\\n",
        "  (b == 20) :\n",
        "      print(\"ok\")\n",
        "else :\n",
        "  print(\"not ok\")\n"
      ],
      "metadata": {
        "colab": {
          "base_uri": "https://localhost:8080/"
        },
        "id": "6-31nVUzbgwY",
        "outputId": "347f7a4d-444d-4506-e055-c832acd350ea"
      },
      "execution_count": null,
      "outputs": [
        {
          "output_type": "stream",
          "name": "stdout",
          "text": [
            "ok\n"
          ]
        }
      ]
    },
    {
      "cell_type": "code",
      "source": [
        "pen = ko= 100\n",
        "print(pen)\n",
        "print(ko)"
      ],
      "metadata": {
        "colab": {
          "base_uri": "https://localhost:8080/"
        },
        "id": "VN7gTmEqi_yd",
        "outputId": "9350a955-116a-4f9e-c82e-28377f6dfa23"
      },
      "execution_count": null,
      "outputs": [
        {
          "output_type": "stream",
          "name": "stdout",
          "text": [
            "100\n",
            "100\n"
          ]
        }
      ]
    },
    {
      "cell_type": "code",
      "source": [
        "language = \"korea\"\n",
        "body = \"tag\"\n",
        "print(language,body)"
      ],
      "metadata": {
        "colab": {
          "base_uri": "https://localhost:8080/"
        },
        "id": "mFhOMca8jQ3U",
        "outputId": "0ee7c2bb-ea9d-48ad-efa6-ddffa8f9c7c8"
      },
      "execution_count": null,
      "outputs": [
        {
          "output_type": "stream",
          "name": "stdout",
          "text": [
            "korea tag\n"
          ]
        }
      ]
    },
    {
      "cell_type": "code",
      "source": [
        "a = 1\n",
        "a = eval('a + 4')\n",
        "print(a)"
      ],
      "metadata": {
        "colab": {
          "base_uri": "https://localhost:8080/"
        },
        "id": "PoHERy61jqYV",
        "outputId": "ce3b392a-0e48-4cd9-972b-4c9a6e323d17"
      },
      "execution_count": null,
      "outputs": [
        {
          "output_type": "stream",
          "name": "stdout",
          "text": [
            "5\n"
          ]
        }
      ]
    },
    {
      "cell_type": "code",
      "source": [
        "a = eval('\"BlockDMask\" + \"blog\"')\n",
        "print(f\"1. eval('\\\"BlockDMask\\\"' + '\\\" blog\\\"') : {a}\")"
      ],
      "metadata": {
        "colab": {
          "base_uri": "https://localhost:8080/"
        },
        "id": "NJ6QuHWbkCKN",
        "outputId": "890dcfe9-d5cb-429b-e070-226cf77bce3f"
      },
      "execution_count": null,
      "outputs": [
        {
          "output_type": "stream",
          "name": "stdout",
          "text": [
            "1. eval('\"BlockDMask\"' + '\" blog\"') : BlockDMaskblog\n"
          ]
        }
      ]
    },
    {
      "cell_type": "markdown",
      "source": [
        "### mutable -> 변경가능    immutable -> 변경불가능\n",
        "#### int, float, bool, str, tuple, unicode 는 immutable\n",
        "#### list(리스트), set(집합), dict(사전형) 은 mutable"
      ],
      "metadata": {
        "id": "dUAHR3VllFrl"
      }
    },
    {
      "cell_type": "markdown",
      "source": [
        "##type()\n",
        "python에서는 모든 값을 type()함수를 통해 자료형을 확인 할 수 있다.\n"
      ],
      "metadata": {
        "id": "mZpGZJFmlhpM"
      }
    },
    {
      "cell_type": "code",
      "source": [
        "type(5) #int  \n",
        "type(85.3) # float\n",
        "type([1,5,8]) # list\n",
        "type((2,6,7)) #tupple"
      ],
      "metadata": {
        "id": "COm8QlmJlpEU"
      },
      "execution_count": null,
      "outputs": []
    },
    {
      "cell_type": "markdown",
      "source": [
        "### dir()\n",
        "#### 자료형의 내장함수를 검색할 수 있다"
      ],
      "metadata": {
        "id": "toawTYI7mmBk"
      }
    },
    {
      "cell_type": "code",
      "source": [
        "#dir(str)\n",
        "dir(int)"
      ],
      "metadata": {
        "id": "t4GqQwsUmvX7"
      },
      "execution_count": null,
      "outputs": []
    },
    {
      "cell_type": "markdown",
      "source": [
        "### help\n",
        "#### 자료형에서 제공하는 메소드 사용법을 검색"
      ],
      "metadata": {
        "id": "YlmJh68AnLul"
      }
    },
    {
      "cell_type": "code",
      "source": [
        "help(str.index)"
      ],
      "metadata": {
        "id": "Rm0TNaGenR4F"
      },
      "execution_count": null,
      "outputs": []
    },
    {
      "cell_type": "code",
      "source": [
        "#Number\n",
        "data = 1 + 2j\n",
        "data.real\n",
        "data.imag"
      ],
      "metadata": {
        "colab": {
          "base_uri": "https://localhost:8080/"
        },
        "id": "K6BBFXkAnykz",
        "outputId": "470e30b1-8a71-4871-b3fb-9803dfb14074"
      },
      "execution_count": null,
      "outputs": [
        {
          "output_type": "execute_result",
          "data": {
            "text/plain": [
              "2.0"
            ]
          },
          "metadata": {},
          "execution_count": 33
        }
      ]
    },
    {
      "cell_type": "markdown",
      "source": [
        "#### 수치 연산 함수\n",
        "#### abs(x) 절대값\n",
        "#### divmod(x,y)  (x // y, x% y)쌍을 구한다\n",
        "#### pow(x,y)\n",
        "#### max()\n",
        "#### min()\n",
        "#### sum() "
      ],
      "metadata": {
        "id": "GwOmxCWuqFhb"
      }
    },
    {
      "cell_type": "code",
      "source": [
        "abs(-3.6) #3.6\n",
        "#divmod(3,5) #(0,3)"
      ],
      "metadata": {
        "colab": {
          "base_uri": "https://localhost:8080/"
        },
        "id": "M3X4oBUXqYh6",
        "outputId": "139dc5ac-8b0a-4dc5-f4ec-7baf34a2e681"
      },
      "execution_count": null,
      "outputs": [
        {
          "output_type": "execute_result",
          "data": {
            "text/plain": [
              "3.6"
            ]
          },
          "metadata": {},
          "execution_count": 36
        }
      ]
    },
    {
      "cell_type": "code",
      "source": [
        "import sys\n",
        "sys.maxsize"
      ],
      "metadata": {
        "colab": {
          "base_uri": "https://localhost:8080/"
        },
        "id": "9L2dqY5IuhpJ",
        "outputId": "e063dcf8-373b-412a-d7ff-dde21fc16a3d"
      },
      "execution_count": null,
      "outputs": [
        {
          "output_type": "execute_result",
          "data": {
            "text/plain": [
              "9223372036854775807"
            ]
          },
          "metadata": {},
          "execution_count": 37
        }
      ]
    },
    {
      "cell_type": "markdown",
      "source": [
        "### 문자열 슬라이싱\n",
        "#### [시작:끝+1:단계]"
      ],
      "metadata": {
        "id": "G-teImM-wFDJ"
      }
    },
    {
      "cell_type": "code",
      "source": [
        "animal ='frog'\n",
        "print(animal[1])"
      ],
      "metadata": {
        "colab": {
          "base_uri": "https://localhost:8080/"
        },
        "id": "-zX78RdhwKdA",
        "outputId": "1c75de5a-604e-4a83-e8d2-831041a3d540"
      },
      "execution_count": null,
      "outputs": [
        {
          "output_type": "stream",
          "name": "stdout",
          "text": [
            "r\n"
          ]
        }
      ]
    },
    {
      "cell_type": "code",
      "source": [
        "animal ='frog'\n",
        "print(animal[1:3])"
      ],
      "metadata": {
        "colab": {
          "base_uri": "https://localhost:8080/"
        },
        "id": "qz6krTiwwQN4",
        "outputId": "1fb24a4c-9c6a-446c-97ea-a8a6ed657e3c"
      },
      "execution_count": null,
      "outputs": [
        {
          "output_type": "stream",
          "name": "stdout",
          "text": [
            "ro\n"
          ]
        }
      ]
    },
    {
      "cell_type": "code",
      "source": [
        "animal ='frog'\n",
        "print(animal[0:3:2])"
      ],
      "metadata": {
        "colab": {
          "base_uri": "https://localhost:8080/"
        },
        "id": "gSxmCd0fwTDw",
        "outputId": "7a182ce6-13f5-4187-d83c-991450a16a60"
      },
      "execution_count": null,
      "outputs": [
        {
          "output_type": "stream",
          "name": "stdout",
          "text": [
            "fo\n"
          ]
        }
      ]
    },
    {
      "cell_type": "code",
      "source": [
        "s_val = \"hello python!\""
      ],
      "metadata": {
        "colab": {
          "base_uri": "https://localhost:8080/",
          "height": 35
        },
        "id": "5Aknf31uxC6g",
        "outputId": "be54775f-5845-4052-fb42-000071df5723"
      },
      "execution_count": null,
      "outputs": [
        {
          "output_type": "execute_result",
          "data": {
            "text/plain": [
              "'hlopto!'"
            ],
            "application/vnd.google.colaboratory.intrinsic+json": {
              "type": "string"
            }
          },
          "metadata": {},
          "execution_count": 53
        }
      ]
    },
    {
      "cell_type": "code",
      "source": [
        "s_val[::2] ##hlopto!\n",
        "s_val[::-1]##!nohtyp olleh"
      ],
      "metadata": {
        "colab": {
          "base_uri": "https://localhost:8080/",
          "height": 35
        },
        "id": "5wYIPb3dxGt5",
        "outputId": "51aa0e97-7060-4dde-ea8c-885f5bac77ae"
      },
      "execution_count": null,
      "outputs": [
        {
          "output_type": "execute_result",
          "data": {
            "text/plain": [
              "'!nohtyp olleh'"
            ],
            "application/vnd.google.colaboratory.intrinsic+json": {
              "type": "string"
            }
          },
          "metadata": {},
          "execution_count": 54
        }
      ]
    },
    {
      "cell_type": "code",
      "source": [
        "s_val='win' * 3\n",
        "print(s_val) #winwinwin"
      ],
      "metadata": {
        "colab": {
          "base_uri": "https://localhost:8080/"
        },
        "id": "lxnP9V6gyDOg",
        "outputId": "b62f97ea-8b95-4ca4-ddee-5bd80ff4f41f"
      },
      "execution_count": null,
      "outputs": [
        {
          "output_type": "stream",
          "name": "stdout",
          "text": [
            "winwinwin\n"
          ]
        }
      ]
    },
    {
      "cell_type": "code",
      "source": [
        "s = 'hello python!'\n",
        "s1 = 'H' + s[1:]\n",
        "print(s1) #Hello python!"
      ],
      "metadata": {
        "colab": {
          "base_uri": "https://localhost:8080/"
        },
        "id": "Rm7s8jJlym3n",
        "outputId": "8085ea44-fc80-457c-9eda-b9a121e3d01e"
      },
      "execution_count": null,
      "outputs": [
        {
          "output_type": "stream",
          "name": "stdout",
          "text": [
            "Hello python!\n"
          ]
        }
      ]
    },
    {
      "cell_type": "code",
      "source": [
        "'python' in s"
      ],
      "metadata": {
        "colab": {
          "base_uri": "https://localhost:8080/"
        },
        "id": "DZSqJm9iy03T",
        "outputId": "9c207f89-3849-4b81-dd8d-d26d47783286"
      },
      "execution_count": null,
      "outputs": [
        {
          "output_type": "execute_result",
          "data": {
            "text/plain": [
              "True"
            ]
          },
          "metadata": {},
          "execution_count": 62
        }
      ]
    },
    {
      "cell_type": "code",
      "source": [
        "input(\"3+2?\")"
      ],
      "metadata": {
        "colab": {
          "base_uri": "https://localhost:8080/",
          "height": 54
        },
        "id": "QagoQ99j1QU3",
        "outputId": "687f706f-e475-4acf-b2cb-2213cf87fd28"
      },
      "execution_count": null,
      "outputs": [
        {
          "name": "stdout",
          "output_type": "stream",
          "text": [
            "3+2?5\n"
          ]
        },
        {
          "output_type": "execute_result",
          "data": {
            "text/plain": [
              "'5'"
            ],
            "application/vnd.google.colaboratory.intrinsic+json": {
              "type": "string"
            }
          },
          "metadata": {},
          "execution_count": 63
        }
      ]
    },
    {
      "cell_type": "code",
      "source": [
        "a = input(\"첫 번째정수 입력: \")\n",
        "b = input (\"두 번째정수 입력: \")\n",
        "c = int(a)+int(b) #input->스트링으로 받아들이기 때문에 int로 변경\n",
        "print(c)"
      ],
      "metadata": {
        "colab": {
          "base_uri": "https://localhost:8080/"
        },
        "id": "RS6OuoCh1uz2",
        "outputId": "61f882fe-371c-40e5-cb4d-bfed99e9ff54"
      },
      "execution_count": null,
      "outputs": [
        {
          "output_type": "stream",
          "name": "stdout",
          "text": [
            "첫 번째정수 입력: 3\n",
            "두 번째정수 입력: 5\n",
            "8\n"
          ]
        }
      ]
    },
    {
      "cell_type": "code",
      "source": [
        "'Hello,{0}{1}'.format(\"python\",\"script,3.6\") #'{인덱스}'.format(값)"
      ],
      "metadata": {
        "colab": {
          "base_uri": "https://localhost:8080/",
          "height": 35
        },
        "id": "JIRIwSwt2bP-",
        "outputId": "da0fe339-89b7-427e-ebbc-e518a0ebb11d"
      },
      "execution_count": null,
      "outputs": [
        {
          "output_type": "execute_result",
          "data": {
            "text/plain": [
              "'Hello,pythonscript,3.6'"
            ],
            "application/vnd.google.colaboratory.intrinsic+json": {
              "type": "string"
            }
          },
          "metadata": {},
          "execution_count": 70
        }
      ]
    },
    {
      "cell_type": "code",
      "source": [
        "hp1 = '010'\n",
        "hp2 = '2531'\n",
        "hp3 = '9234'\n",
        "print(hp1,hp2,hp3,sep='-') # sep -> 'seperator'"
      ],
      "metadata": {
        "colab": {
          "base_uri": "https://localhost:8080/"
        },
        "id": "U1xMm9sp3FTH",
        "outputId": "cecb2f49-6a1f-4238-f0ea-e1728ad4abb9"
      },
      "execution_count": null,
      "outputs": [
        {
          "output_type": "stream",
          "name": "stdout",
          "text": [
            "010-2531-9234\n"
          ]
        }
      ]
    },
    {
      "cell_type": "code",
      "source": [
        "print('korea'.lower()) # lower() : 문자열 내 모든 대문자를 모두 소문자(a lowercase letter)로 변환\n",
        "print('korea'.upper()) #  upper() :  문자열 내 모든 소문자를 모두 대문자(a uppercase letter)로 변환\n",
        "print('KOREA'.swapcase()) # swapcase() : 문자열 내 소문자는 대문자로 변환, 대문자는 소문자로 변환\n",
        "print('We Are The World'.title()) #title() : 문자열을 제목 형식(titlecased)에 맞게 시작은 대문자로, 나머지는 소문자로 변환\n",
        "print('We Are The World'.capitalize()) #  capitalize() : 문자열 내 첫번째 문자를 대문자로 변환하고, 나머지는 모두 소문자로 변환"
      ],
      "metadata": {
        "colab": {
          "base_uri": "https://localhost:8080/"
        },
        "id": "TWcajEX5Bm_b",
        "outputId": "b8d63cbd-aa54-482b-9947-39ac41dff8df"
      },
      "execution_count": null,
      "outputs": [
        {
          "output_type": "stream",
          "name": "stdout",
          "text": [
            "korea\n",
            "KOREA\n",
            "korea\n",
            "We Are The World\n",
            "We are the world\n"
          ]
        }
      ]
    },
    {
      "cell_type": "code",
      "source": [
        "print('KORea'.islower())\n",
        "print('korea'.islower())\n",
        "print(\"KORea\".isupper())\n",
        "print(\"KOREA\".isupper())"
      ],
      "metadata": {
        "colab": {
          "base_uri": "https://localhost:8080/"
        },
        "id": "2abxA-RzEHm7",
        "outputId": "b530aec0-84ee-496e-b7bf-1488f415499e"
      },
      "execution_count": null,
      "outputs": [
        {
          "output_type": "stream",
          "name": "stdout",
          "text": [
            "False\n",
            "True\n",
            "False\n",
            "True\n"
          ]
        }
      ]
    },
    {
      "cell_type": "code",
      "source": [
        "print('we are the world'.find('are'))\n",
        "print('we are the world'.find('WORLD'))\n",
        "print('we are the world'.index('are'))\n",
        "print('we are the world'.index('world'))"
      ],
      "metadata": {
        "id": "aPCjevqSEWyj",
        "colab": {
          "base_uri": "https://localhost:8080/"
        },
        "outputId": "490b98f5-a4a3-4289-9675-76477fb8d0e8"
      },
      "execution_count": null,
      "outputs": [
        {
          "output_type": "stream",
          "name": "stdout",
          "text": [
            "3\n",
            "-1\n",
            "3\n",
            "11\n"
          ]
        }
      ]
    },
    {
      "cell_type": "code",
      "source": [
        "print('we are the world'.join('**'))"
      ],
      "metadata": {
        "id": "GPzYK1YiE3j0",
        "colab": {
          "base_uri": "https://localhost:8080/"
        },
        "outputId": "138620c5-147a-4a56-98cb-468aa964387e"
      },
      "execution_count": null,
      "outputs": [
        {
          "output_type": "stream",
          "name": "stdout",
          "text": [
            "*we are the world*\n"
          ]
        }
      ]
    },
    {
      "cell_type": "code",
      "source": [
        "print('we are'.isalnum())\n",
        "print('weare'.isalnum())\n",
        "print(\"we123\".isalnum())\n",
        "print('we123'.isdecimal())\n",
        "print('123'.isdecimal())"
      ],
      "metadata": {
        "id": "svPzH4QIFzg6",
        "colab": {
          "base_uri": "https://localhost:8080/"
        },
        "outputId": "647c78a0-e635-47ec-f93d-fa5f04351108"
      },
      "execution_count": null,
      "outputs": [
        {
          "output_type": "stream",
          "name": "stdout",
          "text": [
            "False\n",
            "True\n",
            "True\n",
            "False\n",
            "True\n"
          ]
        }
      ]
    },
    {
      "cell_type": "code",
      "source": [
        "l_val5=['apple','banana',100,200]\n",
        "l_val5[0:2] =[100]\n",
        "print(l_val5) #[100, 100, 200]"
      ],
      "metadata": {
        "id": "SlotJ7KdGZj6",
        "colab": {
          "base_uri": "https://localhost:8080/"
        },
        "outputId": "d65a4810-794d-4578-c81c-e068a32b6c79"
      },
      "execution_count": null,
      "outputs": [
        {
          "output_type": "stream",
          "name": "stdout",
          "text": [
            "[100, 100, 200]\n"
          ]
        }
      ]
    },
    {
      "cell_type": "code",
      "source": [
        "l_val8 =[3,6,9]\n",
        "#l_val8[1] =['red','green'] #[3, ['red', 'green'], 9]\n",
        "l_val8[1:1] =['red','green'] #[3, 'red', 'green', 6, 9]\n",
        "l_val8"
      ],
      "metadata": {
        "colab": {
          "base_uri": "https://localhost:8080/"
        },
        "id": "aW3dWMs5Oj3Q",
        "outputId": "907a5640-e169-4909-d150-eeb68117654c"
      },
      "execution_count": null,
      "outputs": [
        {
          "output_type": "execute_result",
          "data": {
            "text/plain": [
              "[3, 'red', 'green', 6, 9]"
            ]
          },
          "metadata": {},
          "execution_count": 121
        }
      ]
    },
    {
      "cell_type": "code",
      "source": [
        "l_val9 = [2,4,6,8]\n",
        "l_val9[:2] = [-1,-2,-3,-4]\n",
        "l_val9"
      ],
      "metadata": {
        "colab": {
          "base_uri": "https://localhost:8080/"
        },
        "id": "GoK4XAM8Pj_Q",
        "outputId": "739a26da-bb34-4d21-d424-c4f695570f5e"
      },
      "execution_count": null,
      "outputs": [
        {
          "output_type": "execute_result",
          "data": {
            "text/plain": [
              "[-1, -2, -3, -4, 6, 8]"
            ]
          },
          "metadata": {},
          "execution_count": 142
        }
      ]
    },
    {
      "cell_type": "code",
      "source": [
        "a=['foo','bar',4,5]\n",
        "x,y,z,w=a\n",
        "print(x,y,z,w)"
      ],
      "metadata": {
        "colab": {
          "base_uri": "https://localhost:8080/"
        },
        "id": "Ca6WgpAvQVJX",
        "outputId": "4710b8e7-980f-4f2a-de40-4ad029dc5f9b"
      },
      "execution_count": null,
      "outputs": [
        {
          "output_type": "stream",
          "name": "stdout",
          "text": [
            "foo bar 4 5\n"
          ]
        }
      ]
    },
    {
      "cell_type": "code",
      "source": [
        "a10 = [1,2,3,4,5]\n",
        "a10.append(3) #[1, 2, 3, 4, 5, 3]\n",
        "a10.insert(3,7) #[1, 2, 3, 7, 4, 5, 3]\n",
        "a10.pop(3)#[1, 2, 3, 4, 5, 3]\n",
        "print(a10.index(1)) #0\n",
        "print(a10.count(3))\n"
      ],
      "metadata": {
        "colab": {
          "base_uri": "https://localhost:8080/"
        },
        "id": "ePZO2ea2R7Q3",
        "outputId": "9fdd7f7e-80b2-4f86-b70f-eb16e513869a"
      },
      "execution_count": 8,
      "outputs": [
        {
          "output_type": "stream",
          "name": "stdout",
          "text": [
            "0\n",
            "2\n"
          ]
        }
      ]
    },
    {
      "cell_type": "code",
      "source": [
        "l_val9 = ['red','green','blue','white','black']\n",
        "print(l_val9.append(\"orange\"))\n",
        "print(l_val9)\n",
        "print(l_val9.extend(['yello','aqua']))\n",
        "l_val9.extend('purple')\n",
        "print(l_val9)\n",
        "l_val9.remove(\"e\")\n",
        "print(l_val9)\n",
        "l_val9.pop()\n",
        "print(l_val9)\n",
        "print(l_val9.index(\"blue\"))\n",
        "print(l_val9.count(\"white\"))\n",
        "print(l_val9.sort())\n",
        "print(l_val9)\n",
        "print(l_val9.reverse())\n",
        "print(l_val9)\n",
        "l_val10 = l_val9.copy()\n",
        "print(l_val10)"
      ],
      "metadata": {
        "colab": {
          "base_uri": "https://localhost:8080/"
        },
        "id": "OFlN-fdWU0AW",
        "outputId": "5322c864-d09d-41e6-d3a9-1ed1913bed27"
      },
      "execution_count": 25,
      "outputs": [
        {
          "output_type": "stream",
          "name": "stdout",
          "text": [
            "None\n",
            "['red', 'green', 'blue', 'white', 'black', 'orange']\n",
            "None\n",
            "['red', 'green', 'blue', 'white', 'black', 'orange', 'yello', 'aqua', 'p', 'u', 'r', 'p', 'l', 'e']\n",
            "['red', 'green', 'blue', 'white', 'black', 'orange', 'yello', 'aqua', 'p', 'u', 'r', 'p', 'l']\n",
            "['red', 'green', 'blue', 'white', 'black', 'orange', 'yello', 'aqua', 'p', 'u', 'r', 'p']\n",
            "2\n",
            "1\n",
            "None\n",
            "['aqua', 'black', 'blue', 'green', 'orange', 'p', 'p', 'r', 'red', 'u', 'white', 'yello']\n",
            "None\n",
            "['yello', 'white', 'u', 'red', 'r', 'p', 'p', 'orange', 'green', 'blue', 'black', 'aqua']\n",
            "['yello', 'white', 'u', 'red', 'r', 'p', 'p', 'orange', 'green', 'blue', 'black', 'aqua']\n"
          ]
        }
      ]
    },
    {
      "cell_type": "code",
      "source": [
        "a = ['red','blue']\n",
        "b = a\n",
        "print(a,b)"
      ],
      "metadata": {
        "colab": {
          "base_uri": "https://localhost:8080/"
        },
        "id": "76SgIepcXDBV",
        "outputId": "27de2761-ff93-4808-bda4-a0d7088bd9ee"
      },
      "execution_count": 26,
      "outputs": [
        {
          "output_type": "stream",
          "name": "stdout",
          "text": [
            "['red', 'blue'] ['red', 'blue']\n"
          ]
        }
      ]
    },
    {
      "cell_type": "code",
      "source": [
        "a =[['red','green']]\n",
        "b = a.copy()\n",
        "print(a,b)\n",
        "b[0][0] ='black'\n",
        "print(a,b)"
      ],
      "metadata": {
        "colab": {
          "base_uri": "https://localhost:8080/"
        },
        "id": "HARvYpzHYAs9",
        "outputId": "8ece67cd-6fd3-46ea-ffc3-5dc62a6f8ef6"
      },
      "execution_count": 28,
      "outputs": [
        {
          "output_type": "stream",
          "name": "stdout",
          "text": [
            "[['red', 'green']] [['red', 'green']]\n",
            "[['black', 'green']] [['black', 'green']]\n"
          ]
        }
      ]
    },
    {
      "cell_type": "code",
      "source": [
        "import copy\n",
        "a =[['red','green']]\n",
        "b = copy.deepcopy(a)\n",
        "print(a,b)\n",
        "b[0][0] ='black'\n",
        "print(a,b)"
      ],
      "metadata": {
        "colab": {
          "base_uri": "https://localhost:8080/"
        },
        "id": "nmKICR23bDBM",
        "outputId": "017b5e63-a403-4aed-e58b-6c495e18b93c"
      },
      "execution_count": 30,
      "outputs": [
        {
          "output_type": "stream",
          "name": "stdout",
          "text": [
            "[['red', 'green']] [['red', 'green']]\n",
            "[['red', 'green']] [['black', 'green']]\n"
          ]
        }
      ]
    },
    {
      "cell_type": "code",
      "source": [
        "def test():\n",
        "  return 2,3\n",
        "print(test())"
      ],
      "metadata": {
        "colab": {
          "base_uri": "https://localhost:8080/"
        },
        "id": "JYHGr5VUcR87",
        "outputId": "511ea836-0ac5-473c-eb21-4f65792129b2"
      },
      "execution_count": 33,
      "outputs": [
        {
          "output_type": "stream",
          "name": "stdout",
          "text": [
            "(2, 3)\n"
          ]
        }
      ]
    },
    {
      "cell_type": "code",
      "source": [
        "t_val=(10,20,30)\n",
        "t_val #(10, 20, 30)\n",
        "type(t_val) #tuple"
      ],
      "metadata": {
        "colab": {
          "base_uri": "https://localhost:8080/"
        },
        "id": "ZEWZhqELcfZb",
        "outputId": "8e8ed9e6-5f85-49bb-d77c-9dca302ab500"
      },
      "execution_count": 37,
      "outputs": [
        {
          "output_type": "execute_result",
          "data": {
            "text/plain": [
              "tuple"
            ]
          },
          "metadata": {},
          "execution_count": 37
        }
      ]
    },
    {
      "cell_type": "code",
      "source": [
        "t_val2=(1)\n",
        "type(t_val2) #int\n",
        "t_val2=(1,) #데이터가 한개 일때는 반드시 쉼표(,)가 있어야한다\n",
        "t_val2=1, #괄호는 없어도 쉼표(,)는 있어야 한다.\n",
        "type(t_val2) #tuple"
      ],
      "metadata": {
        "colab": {
          "base_uri": "https://localhost:8080/"
        },
        "id": "jnIKso2SdBj7",
        "outputId": "1536b991-c268-4885-b896-2aaef293585a"
      },
      "execution_count": 44,
      "outputs": [
        {
          "output_type": "execute_result",
          "data": {
            "text/plain": [
              "tuple"
            ]
          },
          "metadata": {},
          "execution_count": 44
        }
      ]
    },
    {
      "cell_type": "code",
      "source": [
        "t_val5 = (5,10,15,20,25)\n",
        "len(t_val5) #데이터의 개수를 리턴 5 \n",
        "t_val5[0] #0인덱스 요소를 리턴 5"
      ],
      "metadata": {
        "colab": {
          "base_uri": "https://localhost:8080/"
        },
        "id": "TQ3Bbpi4dR3t",
        "outputId": "2e1887a5-3d6a-47e5-cc4b-ffcd85e32679"
      },
      "execution_count": 50,
      "outputs": [
        {
          "output_type": "execute_result",
          "data": {
            "text/plain": [
              "5"
            ]
          },
          "metadata": {},
          "execution_count": 50
        }
      ]
    },
    {
      "cell_type": "code",
      "source": [
        "t_val5[-1] #25\n",
        "t_val5[0:2] # (5,10)\n",
        "t_val5[::2] #(5, 15, 25) 2개씩 건너띄기"
      ],
      "metadata": {
        "colab": {
          "base_uri": "https://localhost:8080/"
        },
        "id": "g7aDe1VhelQt",
        "outputId": "38e0fd0a-d818-41a2-ec59-1510a6b424ac"
      },
      "execution_count": 53,
      "outputs": [
        {
          "output_type": "execute_result",
          "data": {
            "text/plain": [
              "(5, 15, 25)"
            ]
          },
          "metadata": {},
          "execution_count": 53
        }
      ]
    },
    {
      "cell_type": "code",
      "source": [
        "t_val5 +t_val5 + t_val5 #(5, 10, 15, 20, 25, 5, 10, 15, 20, 25, 5, 10, 15, 20, 25)\n",
        "t_val5 + (30,35) #(5, 10, 15, 20, 25, 30, 35)\n",
        "t_val5 * 3 #(5, 10, 15, 20, 25, 5, 10, 15, 20, 25, 5, 10, 15, 20, 25)"
      ],
      "metadata": {
        "colab": {
          "base_uri": "https://localhost:8080/"
        },
        "id": "QDlfbrcQfEKD",
        "outputId": "bdf87485-271e-4849-b42f-25e0028cae19"
      },
      "execution_count": 56,
      "outputs": [
        {
          "output_type": "execute_result",
          "data": {
            "text/plain": [
              "(5, 10, 15, 20, 25, 5, 10, 15, 20, 25, 5, 10, 15, 20, 25)"
            ]
          },
          "metadata": {},
          "execution_count": 56
        }
      ]
    },
    {
      "cell_type": "code",
      "source": [
        "5 in t_val5 #True"
      ],
      "metadata": {
        "colab": {
          "base_uri": "https://localhost:8080/"
        },
        "id": "v7oLIBVLfEEi",
        "outputId": "17e1b2e5-230e-480a-b40c-dbb23cd4e962"
      },
      "execution_count": 59,
      "outputs": [
        {
          "output_type": "execute_result",
          "data": {
            "text/plain": [
              "True"
            ]
          },
          "metadata": {},
          "execution_count": 59
        }
      ]
    },
    {
      "cell_type": "code",
      "source": [
        "t_val6=(1,2,3,2,2,3)\n",
        "t_val6.count(2) #3\n",
        "t_val6.index(2) #1\n",
        "t_val6.index(2,2) #3"
      ],
      "metadata": {
        "colab": {
          "base_uri": "https://localhost:8080/"
        },
        "id": "dYkK_z13f93C",
        "outputId": "f847bc06-ca55-4c1f-d5f0-907525d6f4fc"
      },
      "execution_count": 62,
      "outputs": [
        {
          "output_type": "execute_result",
          "data": {
            "text/plain": [
              "3"
            ]
          },
          "metadata": {},
          "execution_count": 62
        }
      ]
    },
    {
      "cell_type": "code",
      "source": [
        "t_val7 = ('python','hello!!')\n",
        "t_val8 = (t_val7,(1,2,3))\n",
        "t_val8"
      ],
      "metadata": {
        "colab": {
          "base_uri": "https://localhost:8080/"
        },
        "id": "U5AxK2i2gg7a",
        "outputId": "26654597-f5ca-43b9-829d-89e68e155486"
      },
      "execution_count": 64,
      "outputs": [
        {
          "output_type": "execute_result",
          "data": {
            "text/plain": [
              "(('python', 'hello!!'), (1, 2, 3))"
            ]
          },
          "metadata": {},
          "execution_count": 64
        }
      ]
    },
    {
      "cell_type": "code",
      "source": [
        "t_val9 = (10,20,30)\n",
        "l,m,n = t_val9\n",
        "print(l,m,n) #10,20,30"
      ],
      "metadata": {
        "colab": {
          "base_uri": "https://localhost:8080/"
        },
        "id": "CLeerQJDg4F6",
        "outputId": "c3894d79-9425-4c06-e495-54273c508396"
      },
      "execution_count": 65,
      "outputs": [
        {
          "output_type": "stream",
          "name": "stdout",
          "text": [
            "10 20 30\n"
          ]
        }
      ]
    },
    {
      "cell_type": "code",
      "source": [
        "t_val10 = ((1,2),(3,4))\n",
        "(x1,y1),(x2,y2) =t_val10\n",
        "(x1,y1) # (1,2)\n",
        "(x2,y2) # (3,4)"
      ],
      "metadata": {
        "colab": {
          "base_uri": "https://localhost:8080/"
        },
        "id": "gOpd1WqohblD",
        "outputId": "122584d4-7849-445b-f4ad-bb4b6970895f"
      },
      "execution_count": 66,
      "outputs": [
        {
          "output_type": "execute_result",
          "data": {
            "text/plain": [
              "(1, 2)"
            ]
          },
          "metadata": {},
          "execution_count": 66
        }
      ]
    },
    {
      "cell_type": "code",
      "source": [
        "t_val12 = (1,2,3,4,5)\n",
        "a,*b = t_val12\n",
        "print(a,b) #1 [2, 3, 4, 5]\n",
        "print(type(a),type(b)) #int list"
      ],
      "metadata": {
        "colab": {
          "base_uri": "https://localhost:8080/"
        },
        "id": "qRgVbVILh1EK",
        "outputId": "5b4d3740-8b91-4c2f-a404-777fdfa7682b"
      },
      "execution_count": 68,
      "outputs": [
        {
          "output_type": "stream",
          "name": "stdout",
          "text": [
            "1 [2, 3, 4, 5]\n",
            "<class 'int'> <class 'list'>\n"
          ]
        }
      ]
    },
    {
      "cell_type": "code",
      "source": [
        "*a,b = t_val12\n",
        "print(a,b) #[1, 2, 3, 4] 5\n",
        "a,b,*c = t_val12\n",
        "print(a,b,c) #1 2 [3, 4, 5]\n"
      ],
      "metadata": {
        "colab": {
          "base_uri": "https://localhost:8080/"
        },
        "id": "4viGezHiiVbi",
        "outputId": "7f0a24c0-8b72-497e-933f-e191bf15e72d"
      },
      "execution_count": 71,
      "outputs": [
        {
          "output_type": "stream",
          "name": "stdout",
          "text": [
            "[1, 2, 3, 4] 5\n",
            "1 2 [3, 4, 5]\n"
          ]
        }
      ]
    },
    {
      "cell_type": "code",
      "source": [
        "a,*b,*c = t_val12 #->error *기호는 한번만 가능"
      ],
      "metadata": {
        "id": "S5IYwldfioSa"
      },
      "execution_count": null,
      "outputs": []
    },
    {
      "cell_type": "markdown",
      "source": [
        "#### 튜플과 리스트의 공통점\n",
        "##### 임의의 객체를 저장할 수 있다는 것과 순서자료형이다\n",
        "\n",
        "#### 튜플과 리스트의 차이점\n",
        "##### 튜플은 변경 불가능한 순서(sequence)자료형이다\n",
        "##### 튜플은 함수의 가변 인수를 지원한다."
      ],
      "metadata": {
        "id": "ApoBloJ7i2Nx"
      }
    },
    {
      "cell_type": "code",
      "source": [
        "t_val13 = (1,2,3,4,5)\n",
        "l_val = list(t_val13)\n",
        "l_val[0] = 100\n",
        "l_val #[100, 2, 3, 4, 5]\n",
        "type(l_val) #list"
      ],
      "metadata": {
        "colab": {
          "base_uri": "https://localhost:8080/"
        },
        "id": "t4noQRcOjX8p",
        "outputId": "c6b500d5-7d88-4505-de06-a0b81c3f40ee"
      },
      "execution_count": 74,
      "outputs": [
        {
          "output_type": "execute_result",
          "data": {
            "text/plain": [
              "list"
            ]
          },
          "metadata": {},
          "execution_count": 74
        }
      ]
    },
    {
      "cell_type": "code",
      "source": [
        "t_val14 = tuple(l_val)\n",
        "t_val14 #(100, 2, 3, 4, 5)\n",
        "type(t_val14) #tuple"
      ],
      "metadata": {
        "colab": {
          "base_uri": "https://localhost:8080/"
        },
        "id": "deetXaWujs9U",
        "outputId": "fab1b6ce-6534-46fb-8593-17b92cbc1ff6"
      },
      "execution_count": 76,
      "outputs": [
        {
          "output_type": "execute_result",
          "data": {
            "text/plain": [
              "tuple"
            ]
          },
          "metadata": {},
          "execution_count": 76
        }
      ]
    },
    {
      "cell_type": "code",
      "source": [
        "#반드시 튜플을 사용하는 3가지 경우\n",
        "def calc(a,b):\n",
        "  return a+b,a * b\n",
        "x,y =calc(5,4)\n",
        "print(x,y) #9,20"
      ],
      "metadata": {
        "colab": {
          "base_uri": "https://localhost:8080/"
        },
        "id": "Y24YkYR7kQay",
        "outputId": "c889ad98-0a9d-4fa2-a11c-2bcba8ee6e3c"
      },
      "execution_count": 78,
      "outputs": [
        {
          "output_type": "stream",
          "name": "stdout",
          "text": [
            "9 20\n"
          ]
        }
      ]
    }
  ]
}