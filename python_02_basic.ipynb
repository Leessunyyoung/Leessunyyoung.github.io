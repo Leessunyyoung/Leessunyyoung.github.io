{
  "nbformat": 4,
  "nbformat_minor": 0,
  "metadata": {
    "colab": {
      "provenance": [],
      "collapsed_sections": [
        "toawTYI7mmBk",
        "YlmJh68AnLul",
        "GwOmxCWuqFhb"
      ],
      "authorship_tag": "ABX9TyNaArzebIyPdKgiZojM88zC",
      "include_colab_link": true
    },
    "kernelspec": {
      "name": "python3",
      "display_name": "Python 3"
    },
    "language_info": {
      "name": "python"
    }
  },
  "cells": [
    {
      "cell_type": "markdown",
      "metadata": {
        "id": "view-in-github",
        "colab_type": "text"
      },
      "source": [
        "<a href=\"https://colab.research.google.com/github/Leessunyyoung/Leessunyyoung.github.io/blob/master/python_02_basic.ipynb\" target=\"_parent\"><img src=\"https://colab.research.google.com/assets/colab-badge.svg\" alt=\"Open In Colab\"/></a>"
      ]
    },
    {
      "cell_type": "code",
      "execution_count": null,
      "metadata": {
        "id": "y9PhC4sNalZQ"
      },
      "outputs": [],
      "source": [
        "import this"
      ]
    },
    {
      "cell_type": "code",
      "source": [
        "import antigravity"
      ],
      "metadata": {
        "id": "P4nJ45bXa2rP"
      },
      "execution_count": null,
      "outputs": []
    },
    {
      "cell_type": "code",
      "source": [
        "antigravity"
      ],
      "metadata": {
        "colab": {
          "base_uri": "https://localhost:8080/"
        },
        "id": "b71CFW-Na9qe",
        "outputId": "e9588d6b-0b41-4737-8b25-814439744937"
      },
      "execution_count": null,
      "outputs": [
        {
          "output_type": "execute_result",
          "data": {
            "text/plain": [
              "<module 'antigravity' from '/usr/lib/python3.7/antigravity.py'>"
            ]
          },
          "metadata": {},
          "execution_count": 3
        }
      ]
    },
    {
      "cell_type": "code",
      "source": [
        "import keyword\n",
        "keyword.kwlist"
      ],
      "metadata": {
        "id": "5Wlj_2JEbAZS"
      },
      "execution_count": null,
      "outputs": []
    },
    {
      "cell_type": "code",
      "source": [
        "len(keyword.kwlist)"
      ],
      "metadata": {
        "colab": {
          "base_uri": "https://localhost:8080/"
        },
        "id": "wz7E-2uibDGB",
        "outputId": "9502ed04-b53a-47c0-d7bc-dc7e165bf5d7"
      },
      "execution_count": null,
      "outputs": [
        {
          "output_type": "execute_result",
          "data": {
            "text/plain": [
              "35"
            ]
          },
          "metadata": {},
          "execution_count": 9
        }
      ]
    },
    {
      "cell_type": "code",
      "source": [
        "print('hello world')"
      ],
      "metadata": {
        "colab": {
          "base_uri": "https://localhost:8080/"
        },
        "id": "Jx1XiH6Nba9_",
        "outputId": "6c862104-e328-49bf-b711-fd3f747dca15"
      },
      "execution_count": null,
      "outputs": [
        {
          "output_type": "stream",
          "name": "stdout",
          "text": [
            "hello world\n"
          ]
        }
      ]
    },
    {
      "cell_type": "markdown",
      "source": [
        "## 접근제어자\n",
        "단일 언어 스코어(_)  -> protected  \n",
        "두개 언어 스코어(__)  -> private"
      ],
      "metadata": {
        "id": "2C9Vi-XQgVeG"
      }
    },
    {
      "cell_type": "code",
      "source": [
        "#들여쓰기\n",
        "a =10; b = 20\n",
        "if(a == 10) and \\\n",
        "  (b == 20) :\n",
        "      print(\"ok\")\n",
        "else :\n",
        "  print(\"not ok\")\n"
      ],
      "metadata": {
        "colab": {
          "base_uri": "https://localhost:8080/"
        },
        "id": "6-31nVUzbgwY",
        "outputId": "347f7a4d-444d-4506-e055-c832acd350ea"
      },
      "execution_count": null,
      "outputs": [
        {
          "output_type": "stream",
          "name": "stdout",
          "text": [
            "ok\n"
          ]
        }
      ]
    },
    {
      "cell_type": "code",
      "source": [
        "pen = ko= 100\n",
        "print(pen)\n",
        "print(ko)"
      ],
      "metadata": {
        "colab": {
          "base_uri": "https://localhost:8080/"
        },
        "id": "VN7gTmEqi_yd",
        "outputId": "9350a955-116a-4f9e-c82e-28377f6dfa23"
      },
      "execution_count": null,
      "outputs": [
        {
          "output_type": "stream",
          "name": "stdout",
          "text": [
            "100\n",
            "100\n"
          ]
        }
      ]
    },
    {
      "cell_type": "code",
      "source": [
        "language = \"korea\"\n",
        "body = \"tag\"\n",
        "print(language,body)"
      ],
      "metadata": {
        "colab": {
          "base_uri": "https://localhost:8080/"
        },
        "id": "mFhOMca8jQ3U",
        "outputId": "0ee7c2bb-ea9d-48ad-efa6-ddffa8f9c7c8"
      },
      "execution_count": null,
      "outputs": [
        {
          "output_type": "stream",
          "name": "stdout",
          "text": [
            "korea tag\n"
          ]
        }
      ]
    },
    {
      "cell_type": "code",
      "source": [
        "a = 1\n",
        "a = eval('a + 4')\n",
        "print(a)"
      ],
      "metadata": {
        "colab": {
          "base_uri": "https://localhost:8080/"
        },
        "id": "PoHERy61jqYV",
        "outputId": "ce3b392a-0e48-4cd9-972b-4c9a6e323d17"
      },
      "execution_count": null,
      "outputs": [
        {
          "output_type": "stream",
          "name": "stdout",
          "text": [
            "5\n"
          ]
        }
      ]
    },
    {
      "cell_type": "code",
      "source": [
        "a = eval('\"BlockDMask\" + \"blog\"')\n",
        "print(f\"1. eval('\\\"BlockDMask\\\"' + '\\\" blog\\\"') : {a}\")"
      ],
      "metadata": {
        "colab": {
          "base_uri": "https://localhost:8080/"
        },
        "id": "NJ6QuHWbkCKN",
        "outputId": "890dcfe9-d5cb-429b-e070-226cf77bce3f"
      },
      "execution_count": null,
      "outputs": [
        {
          "output_type": "stream",
          "name": "stdout",
          "text": [
            "1. eval('\"BlockDMask\"' + '\" blog\"') : BlockDMaskblog\n"
          ]
        }
      ]
    },
    {
      "cell_type": "markdown",
      "source": [
        "### mutable -> 변경가능    immutable -> 변경불가능\n",
        "#### int, float, bool, str, tuple, unicode 는 immutable\n",
        "#### list(리스트), set(집합), dict(사전형) 은 mutable"
      ],
      "metadata": {
        "id": "dUAHR3VllFrl"
      }
    },
    {
      "cell_type": "markdown",
      "source": [
        "##type()\n",
        "python에서는 모든 값을 type()함수를 통해 자료형을 확인 할 수 있다.\n"
      ],
      "metadata": {
        "id": "mZpGZJFmlhpM"
      }
    },
    {
      "cell_type": "code",
      "source": [
        "type(5) #int  \n",
        "type(85.3) # float\n",
        "type([1,5,8]) # list\n",
        "type((2,6,7)) #tupple"
      ],
      "metadata": {
        "id": "COm8QlmJlpEU"
      },
      "execution_count": null,
      "outputs": []
    },
    {
      "cell_type": "markdown",
      "source": [
        "### dir()\n",
        "#### 자료형의 내장함수를 검색할 수 있다"
      ],
      "metadata": {
        "id": "toawTYI7mmBk"
      }
    },
    {
      "cell_type": "code",
      "source": [
        "#dir(str)\n",
        "dir(int)"
      ],
      "metadata": {
        "id": "t4GqQwsUmvX7"
      },
      "execution_count": null,
      "outputs": []
    },
    {
      "cell_type": "markdown",
      "source": [
        "### help\n",
        "#### 자료형에서 제공하는 메소드 사용법을 검색"
      ],
      "metadata": {
        "id": "YlmJh68AnLul"
      }
    },
    {
      "cell_type": "code",
      "source": [
        "help(str.index)"
      ],
      "metadata": {
        "id": "Rm0TNaGenR4F"
      },
      "execution_count": null,
      "outputs": []
    },
    {
      "cell_type": "code",
      "source": [
        "#Number\n",
        "data = 1 + 2j\n",
        "data.real\n",
        "data.imag"
      ],
      "metadata": {
        "colab": {
          "base_uri": "https://localhost:8080/"
        },
        "id": "K6BBFXkAnykz",
        "outputId": "470e30b1-8a71-4871-b3fb-9803dfb14074"
      },
      "execution_count": null,
      "outputs": [
        {
          "output_type": "execute_result",
          "data": {
            "text/plain": [
              "2.0"
            ]
          },
          "metadata": {},
          "execution_count": 33
        }
      ]
    },
    {
      "cell_type": "markdown",
      "source": [
        "#### 수치 연산 함수\n",
        "#### abs(x) 절대값\n",
        "#### divmod(x,y)  (x // y, x% y)쌍을 구한다\n",
        "#### pow(x,y)\n",
        "#### max()\n",
        "#### min()\n",
        "#### sum() "
      ],
      "metadata": {
        "id": "GwOmxCWuqFhb"
      }
    },
    {
      "cell_type": "code",
      "source": [
        "abs(-3.6) #3.6\n",
        "#divmod(3,5) #(0,3)"
      ],
      "metadata": {
        "colab": {
          "base_uri": "https://localhost:8080/"
        },
        "id": "M3X4oBUXqYh6",
        "outputId": "139dc5ac-8b0a-4dc5-f4ec-7baf34a2e681"
      },
      "execution_count": null,
      "outputs": [
        {
          "output_type": "execute_result",
          "data": {
            "text/plain": [
              "3.6"
            ]
          },
          "metadata": {},
          "execution_count": 36
        }
      ]
    },
    {
      "cell_type": "code",
      "source": [
        "import sys\n",
        "sys.maxsize"
      ],
      "metadata": {
        "colab": {
          "base_uri": "https://localhost:8080/"
        },
        "id": "9L2dqY5IuhpJ",
        "outputId": "e063dcf8-373b-412a-d7ff-dde21fc16a3d"
      },
      "execution_count": null,
      "outputs": [
        {
          "output_type": "execute_result",
          "data": {
            "text/plain": [
              "9223372036854775807"
            ]
          },
          "metadata": {},
          "execution_count": 37
        }
      ]
    },
    {
      "cell_type": "markdown",
      "source": [
        "### 문자열 슬라이싱\n",
        "#### [시작:끝+1:단계]"
      ],
      "metadata": {
        "id": "G-teImM-wFDJ"
      }
    },
    {
      "cell_type": "code",
      "source": [
        "animal ='frog'\n",
        "print(animal[1])"
      ],
      "metadata": {
        "colab": {
          "base_uri": "https://localhost:8080/"
        },
        "id": "-zX78RdhwKdA",
        "outputId": "1c75de5a-604e-4a83-e8d2-831041a3d540"
      },
      "execution_count": null,
      "outputs": [
        {
          "output_type": "stream",
          "name": "stdout",
          "text": [
            "r\n"
          ]
        }
      ]
    },
    {
      "cell_type": "code",
      "source": [
        "animal ='frog'\n",
        "print(animal[1:3])"
      ],
      "metadata": {
        "colab": {
          "base_uri": "https://localhost:8080/"
        },
        "id": "qz6krTiwwQN4",
        "outputId": "1fb24a4c-9c6a-446c-97ea-a8a6ed657e3c"
      },
      "execution_count": null,
      "outputs": [
        {
          "output_type": "stream",
          "name": "stdout",
          "text": [
            "ro\n"
          ]
        }
      ]
    },
    {
      "cell_type": "code",
      "source": [
        "animal ='frog'\n",
        "print(animal[0:3:2])"
      ],
      "metadata": {
        "colab": {
          "base_uri": "https://localhost:8080/"
        },
        "id": "gSxmCd0fwTDw",
        "outputId": "7a182ce6-13f5-4187-d83c-991450a16a60"
      },
      "execution_count": null,
      "outputs": [
        {
          "output_type": "stream",
          "name": "stdout",
          "text": [
            "fo\n"
          ]
        }
      ]
    },
    {
      "cell_type": "code",
      "source": [
        "s_val = \"hello python!\""
      ],
      "metadata": {
        "colab": {
          "base_uri": "https://localhost:8080/",
          "height": 35
        },
        "id": "5Aknf31uxC6g",
        "outputId": "be54775f-5845-4052-fb42-000071df5723"
      },
      "execution_count": null,
      "outputs": [
        {
          "output_type": "execute_result",
          "data": {
            "text/plain": [
              "'hlopto!'"
            ],
            "application/vnd.google.colaboratory.intrinsic+json": {
              "type": "string"
            }
          },
          "metadata": {},
          "execution_count": 53
        }
      ]
    },
    {
      "cell_type": "code",
      "source": [
        "s_val[::2] ##hlopto!\n",
        "s_val[::-1]##!nohtyp olleh"
      ],
      "metadata": {
        "colab": {
          "base_uri": "https://localhost:8080/",
          "height": 35
        },
        "id": "5wYIPb3dxGt5",
        "outputId": "51aa0e97-7060-4dde-ea8c-885f5bac77ae"
      },
      "execution_count": null,
      "outputs": [
        {
          "output_type": "execute_result",
          "data": {
            "text/plain": [
              "'!nohtyp olleh'"
            ],
            "application/vnd.google.colaboratory.intrinsic+json": {
              "type": "string"
            }
          },
          "metadata": {},
          "execution_count": 54
        }
      ]
    },
    {
      "cell_type": "code",
      "source": [
        "s_val='win' * 3\n",
        "print(s_val) #winwinwin"
      ],
      "metadata": {
        "colab": {
          "base_uri": "https://localhost:8080/"
        },
        "id": "lxnP9V6gyDOg",
        "outputId": "b62f97ea-8b95-4ca4-ddee-5bd80ff4f41f"
      },
      "execution_count": null,
      "outputs": [
        {
          "output_type": "stream",
          "name": "stdout",
          "text": [
            "winwinwin\n"
          ]
        }
      ]
    },
    {
      "cell_type": "code",
      "source": [
        "s = 'hello python!'\n",
        "s1 = 'H' + s[1:]\n",
        "print(s1) #Hello python!"
      ],
      "metadata": {
        "colab": {
          "base_uri": "https://localhost:8080/"
        },
        "id": "Rm7s8jJlym3n",
        "outputId": "8085ea44-fc80-457c-9eda-b9a121e3d01e"
      },
      "execution_count": null,
      "outputs": [
        {
          "output_type": "stream",
          "name": "stdout",
          "text": [
            "Hello python!\n"
          ]
        }
      ]
    },
    {
      "cell_type": "code",
      "source": [
        "'python' in s"
      ],
      "metadata": {
        "colab": {
          "base_uri": "https://localhost:8080/"
        },
        "id": "DZSqJm9iy03T",
        "outputId": "9c207f89-3849-4b81-dd8d-d26d47783286"
      },
      "execution_count": null,
      "outputs": [
        {
          "output_type": "execute_result",
          "data": {
            "text/plain": [
              "True"
            ]
          },
          "metadata": {},
          "execution_count": 62
        }
      ]
    },
    {
      "cell_type": "code",
      "source": [
        "input(\"3+2?\")"
      ],
      "metadata": {
        "colab": {
          "base_uri": "https://localhost:8080/",
          "height": 54
        },
        "id": "QagoQ99j1QU3",
        "outputId": "687f706f-e475-4acf-b2cb-2213cf87fd28"
      },
      "execution_count": null,
      "outputs": [
        {
          "name": "stdout",
          "output_type": "stream",
          "text": [
            "3+2?5\n"
          ]
        },
        {
          "output_type": "execute_result",
          "data": {
            "text/plain": [
              "'5'"
            ],
            "application/vnd.google.colaboratory.intrinsic+json": {
              "type": "string"
            }
          },
          "metadata": {},
          "execution_count": 63
        }
      ]
    },
    {
      "cell_type": "code",
      "source": [
        "a = input(\"첫 번째정수 입력: \")\n",
        "b = input (\"두 번째정수 입력: \")\n",
        "c = int(a)+int(b) #input->스트링으로 받아들이기 때문에 int로 변경\n",
        "print(c)"
      ],
      "metadata": {
        "colab": {
          "base_uri": "https://localhost:8080/"
        },
        "id": "RS6OuoCh1uz2",
        "outputId": "61f882fe-371c-40e5-cb4d-bfed99e9ff54"
      },
      "execution_count": null,
      "outputs": [
        {
          "output_type": "stream",
          "name": "stdout",
          "text": [
            "첫 번째정수 입력: 3\n",
            "두 번째정수 입력: 5\n",
            "8\n"
          ]
        }
      ]
    },
    {
      "cell_type": "code",
      "source": [
        "'Hello,{0}{1}'.format(\"python\",\"script,3.6\") #'{인덱스}'.format(값)"
      ],
      "metadata": {
        "colab": {
          "base_uri": "https://localhost:8080/",
          "height": 35
        },
        "id": "JIRIwSwt2bP-",
        "outputId": "da0fe339-89b7-427e-ebbc-e518a0ebb11d"
      },
      "execution_count": null,
      "outputs": [
        {
          "output_type": "execute_result",
          "data": {
            "text/plain": [
              "'Hello,pythonscript,3.6'"
            ],
            "application/vnd.google.colaboratory.intrinsic+json": {
              "type": "string"
            }
          },
          "metadata": {},
          "execution_count": 70
        }
      ]
    },
    {
      "cell_type": "code",
      "source": [
        "hp1 = '010'\n",
        "hp2 = '2531'\n",
        "hp3 = '9234'\n",
        "print(hp1,hp2,hp3,sep='-') # sep -> 'seperator'"
      ],
      "metadata": {
        "colab": {
          "base_uri": "https://localhost:8080/"
        },
        "id": "U1xMm9sp3FTH",
        "outputId": "cecb2f49-6a1f-4238-f0ea-e1728ad4abb9"
      },
      "execution_count": null,
      "outputs": [
        {
          "output_type": "stream",
          "name": "stdout",
          "text": [
            "010-2531-9234\n"
          ]
        }
      ]
    },
    {
      "cell_type": "code",
      "source": [
        "print('korea'.lower()) # lower() : 문자열 내 모든 대문자를 모두 소문자(a lowercase letter)로 변환\n",
        "print('korea'.upper()) #  upper() :  문자열 내 모든 소문자를 모두 대문자(a uppercase letter)로 변환\n",
        "print('KOREA'.swapcase()) # swapcase() : 문자열 내 소문자는 대문자로 변환, 대문자는 소문자로 변환\n",
        "print('We Are The World'.title()) #title() : 문자열을 제목 형식(titlecased)에 맞게 시작은 대문자로, 나머지는 소문자로 변환\n",
        "print('We Are The World'.capitalize()) #  capitalize() : 문자열 내 첫번째 문자를 대문자로 변환하고, 나머지는 모두 소문자로 변환"
      ],
      "metadata": {
        "colab": {
          "base_uri": "https://localhost:8080/"
        },
        "id": "TWcajEX5Bm_b",
        "outputId": "b8d63cbd-aa54-482b-9947-39ac41dff8df"
      },
      "execution_count": null,
      "outputs": [
        {
          "output_type": "stream",
          "name": "stdout",
          "text": [
            "korea\n",
            "KOREA\n",
            "korea\n",
            "We Are The World\n",
            "We are the world\n"
          ]
        }
      ]
    },
    {
      "cell_type": "code",
      "source": [
        "print('KORea'.islower())\n",
        "print('korea'.islower())\n",
        "print(\"KORea\".isupper())\n",
        "print(\"KOREA\".isupper())"
      ],
      "metadata": {
        "colab": {
          "base_uri": "https://localhost:8080/"
        },
        "id": "2abxA-RzEHm7",
        "outputId": "b530aec0-84ee-496e-b7bf-1488f415499e"
      },
      "execution_count": null,
      "outputs": [
        {
          "output_type": "stream",
          "name": "stdout",
          "text": [
            "False\n",
            "True\n",
            "False\n",
            "True\n"
          ]
        }
      ]
    },
    {
      "cell_type": "code",
      "source": [
        "print('we are the world'.find('are'))\n",
        "print('we are the world'.find('WORLD'))\n",
        "print('we are the world'.index('are'))\n",
        "print('we are the world'.index('world'))"
      ],
      "metadata": {
        "id": "aPCjevqSEWyj",
        "colab": {
          "base_uri": "https://localhost:8080/"
        },
        "outputId": "490b98f5-a4a3-4289-9675-76477fb8d0e8"
      },
      "execution_count": 108,
      "outputs": [
        {
          "output_type": "stream",
          "name": "stdout",
          "text": [
            "3\n",
            "-1\n",
            "3\n",
            "11\n"
          ]
        }
      ]
    },
    {
      "cell_type": "code",
      "source": [
        "print('we are the world'.join('**'))"
      ],
      "metadata": {
        "id": "GPzYK1YiE3j0",
        "colab": {
          "base_uri": "https://localhost:8080/"
        },
        "outputId": "138620c5-147a-4a56-98cb-468aa964387e"
      },
      "execution_count": 109,
      "outputs": [
        {
          "output_type": "stream",
          "name": "stdout",
          "text": [
            "*we are the world*\n"
          ]
        }
      ]
    },
    {
      "cell_type": "code",
      "source": [
        "print('we are'.isalnum())\n",
        "print('weare'.isalnum())\n",
        "print(\"we123\".isalnum())\n",
        "print('we123'.isdecimal())\n",
        "print('123'.isdecimal())"
      ],
      "metadata": {
        "id": "svPzH4QIFzg6",
        "colab": {
          "base_uri": "https://localhost:8080/"
        },
        "outputId": "647c78a0-e635-47ec-f93d-fa5f04351108"
      },
      "execution_count": 111,
      "outputs": [
        {
          "output_type": "stream",
          "name": "stdout",
          "text": [
            "False\n",
            "True\n",
            "True\n",
            "False\n",
            "True\n"
          ]
        }
      ]
    },
    {
      "cell_type": "code",
      "source": [
        "l_val5=['apple','banana',100,200]\n",
        "l_val5[0:2] =[100]\n",
        "print(l_val5) #[100, 100, 200]"
      ],
      "metadata": {
        "id": "SlotJ7KdGZj6",
        "colab": {
          "base_uri": "https://localhost:8080/"
        },
        "outputId": "d65a4810-794d-4578-c81c-e068a32b6c79"
      },
      "execution_count": 115,
      "outputs": [
        {
          "output_type": "stream",
          "name": "stdout",
          "text": [
            "[100, 100, 200]\n"
          ]
        }
      ]
    }
  ]
}