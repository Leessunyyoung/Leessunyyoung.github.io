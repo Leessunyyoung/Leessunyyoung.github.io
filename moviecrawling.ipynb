{
  "nbformat": 4,
  "nbformat_minor": 0,
  "metadata": {
    "colab": {
      "provenance": [],
      "authorship_tag": "ABX9TyP6fJPXzNEIy0AaQGEtCYtE",
      "include_colab_link": true
    },
    "kernelspec": {
      "name": "python3",
      "display_name": "Python 3"
    },
    "language_info": {
      "name": "python"
    }
  },
  "cells": [
    {
      "cell_type": "markdown",
      "metadata": {
        "id": "view-in-github",
        "colab_type": "text"
      },
      "source": [
        "<a href=\"https://colab.research.google.com/github/Leessunyyoung/Leessunyyoung.github.io/blob/master/moviecrawling.ipynb\" target=\"_parent\"><img src=\"https://colab.research.google.com/assets/colab-badge.svg\" alt=\"Open In Colab\"/></a>"
      ]
    },
    {
      "cell_type": "code",
      "execution_count": 1,
      "metadata": {
        "colab": {
          "base_uri": "https://localhost:8080/"
        },
        "id": "N_hhy31SsNMV",
        "outputId": "6fc81f68-0550-448a-9579-55cb2d4ac883"
      },
      "outputs": [
        {
          "output_type": "stream",
          "name": "stdout",
          "text": [
            "Mounted at /content/drive\n",
            "/content/drive/MyDrive/python_demo\n"
          ]
        }
      ],
      "source": [
        "from google.colab import drive\n",
        "drive.mount('/content/drive')\n",
        "%cd /content/drive/MyDrive/python_demo"
      ]
    },
    {
      "cell_type": "code",
      "source": [
        "import requests\n",
        "from bs4 import BeautifulSoup\n",
        "\n",
        "headers = {'User-Agent' : 'Mozilla/5.0 (Windows NT 10.0; Win64; x64)AppleWebKit/537.36 (KHTML, like Gecko) Chrome/73.0.3683.86 Safari/537.36'}\n",
        "data = requests.get('https://movie.naver.com/movie/sdb/rank/rmovie.nhn?sel=pnt&date=20200303',headers=headers)\n",
        "\n",
        "soup = BeautifulSoup(data.text, 'html.parser')"
      ],
      "metadata": {
        "id": "Qh8TkVT-3Plj"
      },
      "execution_count": 41,
      "outputs": []
    },
    {
      "cell_type": "code",
      "source": [
        "html = bs4.BeautifulSoup(html_str,'html.parser')"
      ],
      "metadata": {
        "id": "SJUdCVupzr1K"
      },
      "execution_count": 34,
      "outputs": []
    },
    {
      "cell_type": "code",
      "source": [
        "import re\n",
        "\n",
        "url = requests.get('https://movie.naver.com/movie/sdb/rank/rmovie.naver?sel=cur&date=20221208')\n",
        "print(url)\n",
        "print(type(url)) # <class 'requests.models.Response'>\n",
        "\n",
        "html = bs4.BeautifulSoup(url.text ,'html.parser')\n",
        "\n",
        "print(html.select('tr > td > img'))\n",
        "#print(bs_obj.select_one('tr > td'))\n",
        "#print(type(bs_obj.select_one('a')))  #find('a)와 타입이 같음 -> <class 'bs4.element.Tag'>\n",
        "#print(type(bs_obj.select('a')))      #find all('a)리턴 타입이 resultset이므로 다르다. -> <class 'list'>"
      ],
      "metadata": {
        "colab": {
          "base_uri": "https://localhost:8080/"
        },
        "id": "khSqVZzP0FhC",
        "outputId": "143e7afc-5ab7-4ee4-d78a-b621ecf6634b"
      },
      "execution_count": 40,
      "outputs": [
        {
          "output_type": "stream",
          "name": "stdout",
          "text": [
            "<Response [200]>\n",
            "<class 'requests.models.Response'>\n",
            "[<img alt=\"01\" height=\"13\" src=\"https://ssl.pstatic.net/imgmovie/2007/img/common/bullet_r_r01.gif\" width=\"14\"/>, <img alt=\"na\" class=\"arrow\" height=\"10\" src=\"https://ssl.pstatic.net/imgmovie/2007/img/common/icon_na_1.gif\" width=\"7\"/>, <img alt=\"02\" height=\"13\" src=\"https://ssl.pstatic.net/imgmovie/2007/img/common/bullet_r_r02.gif\" width=\"14\"/>, <img alt=\"na\" class=\"arrow\" height=\"10\" src=\"https://ssl.pstatic.net/imgmovie/2007/img/common/icon_na_1.gif\" width=\"7\"/>, <img alt=\"03\" height=\"13\" src=\"https://ssl.pstatic.net/imgmovie/2007/img/common/bullet_r_r03.gif\" width=\"14\"/>, <img alt=\"na\" class=\"arrow\" height=\"10\" src=\"https://ssl.pstatic.net/imgmovie/2007/img/common/icon_na_1.gif\" width=\"7\"/>, <img alt=\"04\" height=\"13\" src=\"https://ssl.pstatic.net/imgmovie/2007/img/common/bullet_r_r04.gif\" width=\"14\"/>, <img alt=\"na\" class=\"arrow\" height=\"10\" src=\"https://ssl.pstatic.net/imgmovie/2007/img/common/icon_na_1.gif\" width=\"7\"/>, <img alt=\"05\" height=\"13\" src=\"https://ssl.pstatic.net/imgmovie/2007/img/common/bullet_r_r05.gif\" width=\"14\"/>, <img alt=\"na\" class=\"arrow\" height=\"10\" src=\"https://ssl.pstatic.net/imgmovie/2007/img/common/icon_na_1.gif\" width=\"7\"/>, <img alt=\"06\" height=\"13\" src=\"https://ssl.pstatic.net/imgmovie/2007/img/common/bullet_r_r06.gif\" width=\"14\"/>, <img alt=\"na\" class=\"arrow\" height=\"10\" src=\"https://ssl.pstatic.net/imgmovie/2007/img/common/icon_na_1.gif\" width=\"7\"/>, <img alt=\"07\" height=\"13\" src=\"https://ssl.pstatic.net/imgmovie/2007/img/common/bullet_r_r07.gif\" width=\"14\"/>, <img alt=\"na\" class=\"arrow\" height=\"10\" src=\"https://ssl.pstatic.net/imgmovie/2007/img/common/icon_na_1.gif\" width=\"7\"/>, <img alt=\"08\" height=\"13\" src=\"https://ssl.pstatic.net/imgmovie/2007/img/common/bullet_r_r08.gif\" width=\"14\"/>, <img alt=\"na\" class=\"arrow\" height=\"10\" src=\"https://ssl.pstatic.net/imgmovie/2007/img/common/icon_na_1.gif\" width=\"7\"/>, <img alt=\"09\" height=\"13\" src=\"https://ssl.pstatic.net/imgmovie/2007/img/common/bullet_r_r09.gif\" width=\"14\"/>, <img alt=\"na\" class=\"arrow\" height=\"10\" src=\"https://ssl.pstatic.net/imgmovie/2007/img/common/icon_na_1.gif\" width=\"7\"/>, <img alt=\"010\" height=\"13\" src=\"https://ssl.pstatic.net/imgmovie/2007/img/common/bullet_r_r10.gif\" width=\"14\"/>, <img alt=\"new\" height=\"5\" src=\"https://ssl.pstatic.net/imgmovie/2007/img/common/icon_new_1.gif\" width=\"20\"/>, <img alt=\"11\" height=\"13\" src=\"https://ssl.pstatic.net/imgmovie/2007/img/common/bullet_r_g11.gif\" width=\"14\"/>, <img alt=\"down\" class=\"arrow\" height=\"10\" src=\"https://ssl.pstatic.net/imgmovie/2007/img/common/icon_down_1.gif\" width=\"7\"/>, <img alt=\"12\" height=\"13\" src=\"https://ssl.pstatic.net/imgmovie/2007/img/common/bullet_r_g12.gif\" width=\"14\"/>, <img alt=\"down\" class=\"arrow\" height=\"10\" src=\"https://ssl.pstatic.net/imgmovie/2007/img/common/icon_down_1.gif\" width=\"7\"/>, <img alt=\"13\" height=\"13\" src=\"https://ssl.pstatic.net/imgmovie/2007/img/common/bullet_r_g13.gif\" width=\"14\"/>, <img alt=\"down\" class=\"arrow\" height=\"10\" src=\"https://ssl.pstatic.net/imgmovie/2007/img/common/icon_down_1.gif\" width=\"7\"/>, <img alt=\"14\" height=\"13\" src=\"https://ssl.pstatic.net/imgmovie/2007/img/common/bullet_r_g14.gif\" width=\"14\"/>, <img alt=\"down\" class=\"arrow\" height=\"10\" src=\"https://ssl.pstatic.net/imgmovie/2007/img/common/icon_down_1.gif\" width=\"7\"/>, <img alt=\"15\" height=\"13\" src=\"https://ssl.pstatic.net/imgmovie/2007/img/common/bullet_r_g15.gif\" width=\"14\"/>, <img alt=\"down\" class=\"arrow\" height=\"10\" src=\"https://ssl.pstatic.net/imgmovie/2007/img/common/icon_down_1.gif\" width=\"7\"/>, <img alt=\"16\" height=\"13\" src=\"https://ssl.pstatic.net/imgmovie/2007/img/common/bullet_r_g16.gif\" width=\"14\"/>, <img alt=\"down\" class=\"arrow\" height=\"10\" src=\"https://ssl.pstatic.net/imgmovie/2007/img/common/icon_down_1.gif\" width=\"7\"/>, <img alt=\"17\" height=\"13\" src=\"https://ssl.pstatic.net/imgmovie/2007/img/common/bullet_r_g17.gif\" width=\"14\"/>, <img alt=\"down\" class=\"arrow\" height=\"10\" src=\"https://ssl.pstatic.net/imgmovie/2007/img/common/icon_down_1.gif\" width=\"7\"/>, <img alt=\"18\" height=\"13\" src=\"https://ssl.pstatic.net/imgmovie/2007/img/common/bullet_r_g18.gif\" width=\"14\"/>, <img alt=\"down\" class=\"arrow\" height=\"10\" src=\"https://ssl.pstatic.net/imgmovie/2007/img/common/icon_down_1.gif\" width=\"7\"/>, <img alt=\"19\" height=\"13\" src=\"https://ssl.pstatic.net/imgmovie/2007/img/common/bullet_r_g19.gif\" width=\"14\"/>, <img alt=\"down\" class=\"arrow\" height=\"10\" src=\"https://ssl.pstatic.net/imgmovie/2007/img/common/icon_down_1.gif\" width=\"7\"/>, <img alt=\"20\" height=\"13\" src=\"https://ssl.pstatic.net/imgmovie/2007/img/common/bullet_r_g20.gif\" width=\"14\"/>, <img alt=\"down\" class=\"arrow\" height=\"10\" src=\"https://ssl.pstatic.net/imgmovie/2007/img/common/icon_down_1.gif\" width=\"7\"/>, <img alt=\"21\" height=\"13\" src=\"https://ssl.pstatic.net/imgmovie/2007/img/common/bullet_r_g21.gif\" width=\"14\"/>, <img alt=\"down\" class=\"arrow\" height=\"10\" src=\"https://ssl.pstatic.net/imgmovie/2007/img/common/icon_down_1.gif\" width=\"7\"/>, <img alt=\"22\" height=\"13\" src=\"https://ssl.pstatic.net/imgmovie/2007/img/common/bullet_r_g22.gif\" width=\"14\"/>, <img alt=\"na\" class=\"arrow\" height=\"10\" src=\"https://ssl.pstatic.net/imgmovie/2007/img/common/icon_na_1.gif\" width=\"7\"/>, <img alt=\"23\" height=\"13\" src=\"https://ssl.pstatic.net/imgmovie/2007/img/common/bullet_r_g23.gif\" width=\"14\"/>, <img alt=\"na\" class=\"arrow\" height=\"10\" src=\"https://ssl.pstatic.net/imgmovie/2007/img/common/icon_na_1.gif\" width=\"7\"/>, <img alt=\"24\" height=\"13\" src=\"https://ssl.pstatic.net/imgmovie/2007/img/common/bullet_r_g24.gif\" width=\"14\"/>, <img alt=\"na\" class=\"arrow\" height=\"10\" src=\"https://ssl.pstatic.net/imgmovie/2007/img/common/icon_na_1.gif\" width=\"7\"/>, <img alt=\"25\" height=\"13\" src=\"https://ssl.pstatic.net/imgmovie/2007/img/common/bullet_r_g25.gif\" width=\"14\"/>, <img alt=\"new\" height=\"5\" src=\"https://ssl.pstatic.net/imgmovie/2007/img/common/icon_new_1.gif\" width=\"20\"/>, <img alt=\"26\" height=\"13\" src=\"https://ssl.pstatic.net/imgmovie/2007/img/common/bullet_r_g26.gif\" width=\"14\"/>, <img alt=\"down\" class=\"arrow\" height=\"10\" src=\"https://ssl.pstatic.net/imgmovie/2007/img/common/icon_down_1.gif\" width=\"7\"/>, <img alt=\"27\" height=\"13\" src=\"https://ssl.pstatic.net/imgmovie/2007/img/common/bullet_r_g27.gif\" width=\"14\"/>, <img alt=\"down\" class=\"arrow\" height=\"10\" src=\"https://ssl.pstatic.net/imgmovie/2007/img/common/icon_down_1.gif\" width=\"7\"/>, <img alt=\"28\" height=\"13\" src=\"https://ssl.pstatic.net/imgmovie/2007/img/common/bullet_r_g28.gif\" width=\"14\"/>, <img alt=\"down\" class=\"arrow\" height=\"10\" src=\"https://ssl.pstatic.net/imgmovie/2007/img/common/icon_down_1.gif\" width=\"7\"/>, <img alt=\"29\" height=\"13\" src=\"https://ssl.pstatic.net/imgmovie/2007/img/common/bullet_r_g29.gif\" width=\"14\"/>, <img alt=\"down\" class=\"arrow\" height=\"10\" src=\"https://ssl.pstatic.net/imgmovie/2007/img/common/icon_down_1.gif\" width=\"7\"/>, <img alt=\"30\" height=\"13\" src=\"https://ssl.pstatic.net/imgmovie/2007/img/common/bullet_r_g30.gif\" width=\"14\"/>, <img alt=\"down\" class=\"arrow\" height=\"10\" src=\"https://ssl.pstatic.net/imgmovie/2007/img/common/icon_down_1.gif\" width=\"7\"/>, <img alt=\"31\" height=\"13\" src=\"https://ssl.pstatic.net/imgmovie/2007/img/common/bullet_r_g31.gif\" width=\"14\"/>, <img alt=\"down\" class=\"arrow\" height=\"10\" src=\"https://ssl.pstatic.net/imgmovie/2007/img/common/icon_down_1.gif\" width=\"7\"/>, <img alt=\"32\" height=\"13\" src=\"https://ssl.pstatic.net/imgmovie/2007/img/common/bullet_r_g32.gif\" width=\"14\"/>, <img alt=\"down\" class=\"arrow\" height=\"10\" src=\"https://ssl.pstatic.net/imgmovie/2007/img/common/icon_down_1.gif\" width=\"7\"/>, <img alt=\"33\" height=\"13\" src=\"https://ssl.pstatic.net/imgmovie/2007/img/common/bullet_r_g33.gif\" width=\"14\"/>, <img alt=\"new\" height=\"5\" src=\"https://ssl.pstatic.net/imgmovie/2007/img/common/icon_new_1.gif\" width=\"20\"/>, <img alt=\"34\" height=\"13\" src=\"https://ssl.pstatic.net/imgmovie/2007/img/common/bullet_r_g34.gif\" width=\"14\"/>, <img alt=\"down\" class=\"arrow\" height=\"10\" src=\"https://ssl.pstatic.net/imgmovie/2007/img/common/icon_down_1.gif\" width=\"7\"/>, <img alt=\"35\" height=\"13\" src=\"https://ssl.pstatic.net/imgmovie/2007/img/common/bullet_r_g35.gif\" width=\"14\"/>, <img alt=\"down\" class=\"arrow\" height=\"10\" src=\"https://ssl.pstatic.net/imgmovie/2007/img/common/icon_down_1.gif\" width=\"7\"/>, <img alt=\"36\" height=\"13\" src=\"https://ssl.pstatic.net/imgmovie/2007/img/common/bullet_r_g36.gif\" width=\"14\"/>, <img alt=\"new\" height=\"5\" src=\"https://ssl.pstatic.net/imgmovie/2007/img/common/icon_new_1.gif\" width=\"20\"/>, <img alt=\"37\" height=\"13\" src=\"https://ssl.pstatic.net/imgmovie/2007/img/common/bullet_r_g37.gif\" width=\"14\"/>, <img alt=\"down\" class=\"arrow\" height=\"10\" src=\"https://ssl.pstatic.net/imgmovie/2007/img/common/icon_down_1.gif\" width=\"7\"/>, <img alt=\"38\" height=\"13\" src=\"https://ssl.pstatic.net/imgmovie/2007/img/common/bullet_r_g38.gif\" width=\"14\"/>, <img alt=\"down\" class=\"arrow\" height=\"10\" src=\"https://ssl.pstatic.net/imgmovie/2007/img/common/icon_down_1.gif\" width=\"7\"/>, <img alt=\"39\" height=\"13\" src=\"https://ssl.pstatic.net/imgmovie/2007/img/common/bullet_r_g39.gif\" width=\"14\"/>, <img alt=\"new\" height=\"5\" src=\"https://ssl.pstatic.net/imgmovie/2007/img/common/icon_new_1.gif\" width=\"20\"/>, <img alt=\"40\" height=\"13\" src=\"https://ssl.pstatic.net/imgmovie/2007/img/common/bullet_r_g40.gif\" width=\"14\"/>, <img alt=\"down\" class=\"arrow\" height=\"10\" src=\"https://ssl.pstatic.net/imgmovie/2007/img/common/icon_down_1.gif\" width=\"7\"/>, <img alt=\"41\" height=\"13\" src=\"https://ssl.pstatic.net/imgmovie/2007/img/common/bullet_r_g41.gif\" width=\"14\"/>, <img alt=\"down\" class=\"arrow\" height=\"10\" src=\"https://ssl.pstatic.net/imgmovie/2007/img/common/icon_down_1.gif\" width=\"7\"/>, <img alt=\"42\" height=\"13\" src=\"https://ssl.pstatic.net/imgmovie/2007/img/common/bullet_r_g42.gif\" width=\"14\"/>, <img alt=\"down\" class=\"arrow\" height=\"10\" src=\"https://ssl.pstatic.net/imgmovie/2007/img/common/icon_down_1.gif\" width=\"7\"/>, <img alt=\"43\" height=\"13\" src=\"https://ssl.pstatic.net/imgmovie/2007/img/common/bullet_r_g43.gif\" width=\"14\"/>, <img alt=\"down\" class=\"arrow\" height=\"10\" src=\"https://ssl.pstatic.net/imgmovie/2007/img/common/icon_down_1.gif\" width=\"7\"/>, <img alt=\"44\" height=\"13\" src=\"https://ssl.pstatic.net/imgmovie/2007/img/common/bullet_r_g44.gif\" width=\"14\"/>, <img alt=\"new\" height=\"5\" src=\"https://ssl.pstatic.net/imgmovie/2007/img/common/icon_new_1.gif\" width=\"20\"/>, <img alt=\"45\" height=\"13\" src=\"https://ssl.pstatic.net/imgmovie/2007/img/common/bullet_r_g45.gif\" width=\"14\"/>, <img alt=\"down\" class=\"arrow\" height=\"10\" src=\"https://ssl.pstatic.net/imgmovie/2007/img/common/icon_down_1.gif\" width=\"7\"/>, <img alt=\"46\" height=\"13\" src=\"https://ssl.pstatic.net/imgmovie/2007/img/common/bullet_r_g46.gif\" width=\"14\"/>, <img alt=\"down\" class=\"arrow\" height=\"10\" src=\"https://ssl.pstatic.net/imgmovie/2007/img/common/icon_down_1.gif\" width=\"7\"/>, <img alt=\"47\" height=\"13\" src=\"https://ssl.pstatic.net/imgmovie/2007/img/common/bullet_r_g47.gif\" width=\"14\"/>, <img alt=\"down\" class=\"arrow\" height=\"10\" src=\"https://ssl.pstatic.net/imgmovie/2007/img/common/icon_down_1.gif\" width=\"7\"/>, <img alt=\"48\" height=\"13\" src=\"https://ssl.pstatic.net/imgmovie/2007/img/common/bullet_r_g48.gif\" width=\"14\"/>, <img alt=\"down\" class=\"arrow\" height=\"10\" src=\"https://ssl.pstatic.net/imgmovie/2007/img/common/icon_down_1.gif\" width=\"7\"/>, <img alt=\"49\" height=\"13\" src=\"https://ssl.pstatic.net/imgmovie/2007/img/common/bullet_r_g49.gif\" width=\"14\"/>, <img alt=\"down\" class=\"arrow\" height=\"10\" src=\"https://ssl.pstatic.net/imgmovie/2007/img/common/icon_down_1.gif\" width=\"7\"/>, <img alt=\"50\" height=\"13\" src=\"https://ssl.pstatic.net/imgmovie/2007/img/common/bullet_r_g50.gif\" width=\"14\"/>, <img alt=\"down\" class=\"arrow\" height=\"10\" src=\"https://ssl.pstatic.net/imgmovie/2007/img/common/icon_down_1.gif\" width=\"7\"/>]\n"
          ]
        }
      ]
    },
    {
      "cell_type": "code",
      "source": [
        "import requests\n",
        "from bs4 import BeautifulSoup\n",
        "\n",
        "headers = {'User-Agent' : 'Mozilla/5.0 (Windows NT 10.0; Win64; x64)AppleWebKit/537.36 (KHTML, like Gecko) Chrome/73.0.3683.86 Safari/537.36'}\n",
        "data = requests.get('https://movie.naver.com/movie/sdb/rank/rmovie.naver?sel=cur&date=20221208',headers=headers)\n",
        "\n",
        "soup = BeautifulSoup(data.text, 'html.parser')\n",
        "\n",
        "title = soup.select(\"#old_content > table > tbody > tr > td.title > div.tit5 \")\n",
        "print(title)\n",
        "#for title in soup.find(\"div\", class_=\"tit5\"):\n",
        "    #print(title.find(\"a\")[\"title\"])"
      ],
      "metadata": {
        "colab": {
          "base_uri": "https://localhost:8080/"
        },
        "id": "lNOxXTJE3esq",
        "outputId": "912f56e6-10e1-4551-df1e-019a722ac20b"
      },
      "execution_count": 77,
      "outputs": [
        {
          "output_type": "stream",
          "name": "stdout",
          "text": [
            "[<div class=\"tit5\">\n",
            "<a href=\"/movie/bi/mi/basic.naver?code=81888\" title=\"탑건: 매버릭\">탑건: 매버릭</a>\n",
            "</div>, <div class=\"tit5\">\n",
            "<a href=\"/movie/bi/mi/basic.naver?code=222301\" title=\"올빼미\">올빼미</a>\n",
            "</div>, <div class=\"tit5\">\n",
            "<a href=\"/movie/bi/mi/basic.naver?code=219812\" title=\"극장판 짱구는 못말려: 수수께끼! 꽃피는 천하떡잎학교\">극장판 짱구는 못말려: 수수께끼! 꽃피는 천하떡잎학교</a>\n",
            "</div>, <div class=\"tit5\">\n",
            "<a href=\"/movie/bi/mi/basic.naver?code=10020\" title=\"바람과 함께 사라지다\">바람과 함께 사라지다</a>\n",
            "</div>, <div class=\"tit5\">\n",
            "<a href=\"/movie/bi/mi/basic.naver?code=213733\" title=\"극장판 주술회전 0\">극장판 주술회전 0</a>\n",
            "</div>, <div class=\"tit5\">\n",
            "<a href=\"/movie/bi/mi/basic.naver?code=10058\" title=\"벤허\">벤허</a>\n",
            "</div>, <div class=\"tit5\">\n",
            "<a href=\"/movie/bi/mi/basic.naver?code=187821\" title=\"인생은 아름다워\">인생은 아름다워</a>\n",
            "</div>, <div class=\"tit5\">\n",
            "<a href=\"/movie/bi/mi/basic.naver?code=92075\" title=\"어바웃 타임\">어바웃 타임</a>\n",
            "</div>, <div class=\"tit5\">\n",
            "<a href=\"/movie/bi/mi/basic.naver?code=135843\" title=\"귀향\">귀향</a>\n",
            "</div>, <div class=\"tit5\">\n",
            "<a href=\"/movie/bi/mi/basic.naver?code=19031\" title=\"러브레터\">러브레터</a>\n",
            "</div>, <div class=\"tit5\">\n",
            "<a href=\"/movie/bi/mi/basic.naver?code=201073\" title=\"코다\">코다</a>\n",
            "</div>, <div class=\"tit5\">\n",
            "<a href=\"/movie/bi/mi/basic.naver?code=10448\" title=\"오즈의 마법사\">오즈의 마법사</a>\n",
            "</div>, <div class=\"tit5\">\n",
            "<a href=\"/movie/bi/mi/basic.naver?code=209280\" title=\"탄생\">탄생</a>\n",
            "</div>, <div class=\"tit5\">\n",
            "<a href=\"/movie/bi/mi/basic.naver?code=11307\" title=\"보디가드\">보디가드</a>\n",
            "</div>, <div class=\"tit5\">\n",
            "<a href=\"/movie/bi/mi/basic.naver?code=10064\" title=\"십계\">십계</a>\n",
            "</div>, <div class=\"tit5\">\n",
            "<a href=\"/movie/bi/mi/basic.naver?code=96379\" title=\"비긴 어게인\">비긴 어게인</a>\n",
            "</div>, <div class=\"tit5\">\n",
            "<a href=\"/movie/bi/mi/basic.naver?code=185282\" title=\"타오르는 여인의 초상\">타오르는 여인의 초상</a>\n",
            "</div>, <div class=\"tit5\">\n",
            "<a href=\"/movie/bi/mi/basic.naver?code=146469\" title=\"택시운전사\">택시운전사</a>\n",
            "</div>, <div class=\"tit5\">\n",
            "<a href=\"/movie/bi/mi/basic.naver?code=101901\" title=\"변호인\">변호인</a>\n",
            "</div>, <div class=\"tit5\">\n",
            "<a href=\"/movie/bi/mi/basic.naver?code=182387\" title=\"윤희에게\">윤희에게</a>\n",
            "</div>, <div class=\"tit5\">\n",
            "<a href=\"/movie/bi/mi/basic.naver?code=70562\" title=\"시\">시</a>\n",
            "</div>, <div class=\"tit5\">\n",
            "<a href=\"/movie/bi/mi/basic.naver?code=77768\" title=\"매드맥스: 분노의 도로\">매드맥스: 분노의 도로</a>\n",
            "</div>, <div class=\"tit5\">\n",
            "<a href=\"/movie/bi/mi/basic.naver?code=150198\" title=\"너의 이름은.\">너의 이름은.</a>\n",
            "</div>, <div class=\"tit5\">\n",
            "<a href=\"/movie/bi/mi/basic.naver?code=189624\" title=\"찬실이는 복도 많지\">찬실이는 복도 많지</a>\n",
            "</div>, <div class=\"tit5\">\n",
            "<a href=\"/movie/bi/mi/basic.naver?code=194196\" title=\"한산: 용의 출현\">한산: 용의 출현</a>\n",
            "</div>, <div class=\"tit5\">\n",
            "<a href=\"/movie/bi/mi/basic.naver?code=179307\" title=\"벌새\">벌새</a>\n",
            "</div>, <div class=\"tit5\">\n",
            "<a href=\"/movie/bi/mi/basic.naver?code=220733\" title=\"오늘 밤, 세계에서 이 사랑이 사라진다 해도\">오늘 밤, 세계에서 이 사랑이 사라진다 해도</a>\n",
            "</div>, <div class=\"tit5\">\n",
            "<a href=\"/movie/bi/mi/basic.naver?code=198413\" title=\"헤어질 결심\">헤어질 결심</a>\n",
            "</div>, <div class=\"tit5\">\n",
            "<a href=\"/movie/bi/mi/basic.naver?code=134963\" title=\"라라랜드\">라라랜드</a>\n",
            "</div>, <div class=\"tit5\">\n",
            "<a href=\"/movie/bi/mi/basic.naver?code=101962\" title=\"캐롤\">캐롤</a>\n",
            "</div>, <div class=\"tit5\">\n",
            "<a href=\"/movie/bi/mi/basic.naver?code=204640\" title=\"육사오(6/45)\">육사오(6/45)</a>\n",
            "</div>, <div class=\"tit5\">\n",
            "<a href=\"/movie/bi/mi/basic.naver?code=191430\" title=\"자백\">자백</a>\n",
            "</div>, <div class=\"tit5\">\n",
            "<a href=\"/movie/bi/mi/basic.naver?code=93756\" title=\"명량\">명량</a>\n",
            "</div>, <div class=\"tit5\">\n",
            "<a href=\"/movie/bi/mi/basic.naver?code=175318\" title=\"너의 췌장을 먹고 싶어\">너의 췌장을 먹고 싶어</a>\n",
            "</div>, <div class=\"tit5\">\n",
            "<a href=\"/movie/bi/mi/basic.naver?code=220613\" title=\"폴: 600미터\">폴: 600미터</a>\n",
            "</div>, <div class=\"tit5\">\n",
            "<a href=\"/movie/bi/mi/basic.naver?code=195758\" title=\"헌트\">헌트</a>\n",
            "</div>, <div class=\"tit5\">\n",
            "<a href=\"/movie/bi/mi/basic.naver?code=220464\" title=\"본즈 앤 올\">본즈 앤 올</a>\n",
            "</div>, <div class=\"tit5\">\n",
            "<a href=\"/movie/bi/mi/basic.naver?code=66820\" title=\"초속5센티미터\">초속5센티미터</a>\n",
            "</div>, <div class=\"tit5\">\n",
            "<a href=\"/movie/bi/mi/basic.naver?code=192150\" title=\"모가디슈\">모가디슈</a>\n",
            "</div>, <div class=\"tit5\">\n",
            "<a href=\"/movie/bi/mi/basic.naver?code=147945\" title=\"다가오는 것들\">다가오는 것들</a>\n",
            "</div>, <div class=\"tit5\">\n",
            "<a href=\"/movie/bi/mi/basic.naver?code=47370\" title=\"그래비티\">그래비티</a>\n",
            "</div>, <div class=\"tit5\">\n",
            "<a href=\"/movie/bi/mi/basic.naver?code=219402\" title=\"에브리씽 에브리웨어 올 앳 원스\">에브리씽 에브리웨어 올 앳 원스</a>\n",
            "</div>, <div class=\"tit5\">\n",
            "<a href=\"/movie/bi/mi/basic.naver?code=26545\" title=\"큐어\">큐어</a>\n",
            "</div>, <div class=\"tit5\">\n",
            "<a href=\"/movie/bi/mi/basic.naver?code=190991\" title=\"이상한 나라의 수학자\">이상한 나라의 수학자</a>\n",
            "</div>, <div class=\"tit5\">\n",
            "<a href=\"/movie/bi/mi/basic.naver?code=98738\" title=\"프란시스 하\">프란시스 하</a>\n",
            "</div>, <div class=\"tit5\">\n",
            "<a href=\"/movie/bi/mi/basic.naver?code=202675\" title=\"우연과 상상\">우연과 상상</a>\n",
            "</div>, <div class=\"tit5\">\n",
            "<a href=\"/movie/bi/mi/basic.naver?code=159830\" title=\"너의 췌장을 먹고 싶어\">너의 췌장을 먹고 싶어</a>\n",
            "</div>, <div class=\"tit5\">\n",
            "<a href=\"/movie/bi/mi/basic.naver?code=31477\" title=\"릴리 슈슈의 모든 것\">릴리 슈슈의 모든 것</a>\n",
            "</div>, <div class=\"tit5\">\n",
            "<a href=\"/movie/bi/mi/basic.naver?code=181114\" title=\"날씨의 아이\">날씨의 아이</a>\n",
            "</div>, <div class=\"tit5\">\n",
            "<a href=\"/movie/bi/mi/basic.naver?code=213418\" title=\"사잇소리\">사잇소리</a>\n",
            "</div>]\n"
          ]
        }
      ]
    }
  ]
}